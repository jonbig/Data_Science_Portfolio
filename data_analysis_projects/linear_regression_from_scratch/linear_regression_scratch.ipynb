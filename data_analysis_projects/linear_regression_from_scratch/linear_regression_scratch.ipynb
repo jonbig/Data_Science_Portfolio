{
 "cells": [
  {
   "cell_type": "markdown",
   "metadata": {},
   "source": [
    "# Linear Regression from Scratch\n",
    "\n",
    "The purpose of this project is to gain a more complete understanding of linear regression by examining into the details of how and why the model works. The most common way of recreating linear regression from scratch is to simply rewrite the formula in python, but I find that looking at the formula alone is not always enough to understand *how* it works. Instead, we will break the formula down into pieces that are easier to understand. We'll calculate one piece at a time, put the whole model together, and then check our work using seaborn and statsmodels. Credit to [Brandon Foltz's youtube channel](https://www.youtube.com/@BrandonFoltz) for inspiring this project.\n",
    "\n",
    "The goal for our model will be to built a simple linear regression  from scratch that models the relationship between a home’s square footage and its sales price. Our data consists of 1,098 homes sold in Tillamook County, OR from June 2021 to October 2022."
   ]
  },
  {
   "cell_type": "code",
   "execution_count": 166,
   "metadata": {},
   "outputs": [],
   "source": [
    "import pandas as pd\n",
    "import matplotlib.pyplot as plt\n",
    "import numpy as np\n",
    "import matplotlib.pyplot as plt  \n",
    "from sklearn.linear_model import LinearRegression \n",
    "import seaborn as sns\n",
    "from statsmodels.formula.api import ols\n",
    "pd.options.display.float_format = '{:20,.2f}'.format"
   ]
  },
  {
   "cell_type": "markdown",
   "metadata": {},
   "source": [
    "First we’ll import the csv file and use the info, describe, and head functions from the pandas library to get an overall picture of what our data looks like. Since our goal is to understand linear regression, we don’t have to worry about splitting the data up into training and testing portions."
   ]
  },
  {
   "cell_type": "code",
   "execution_count": 167,
   "metadata": {},
   "outputs": [
    {
     "name": "stdout",
     "output_type": "stream",
     "text": [
      "<class 'pandas.core.frame.DataFrame'>\n",
      "RangeIndex: 1098 entries, 0 to 1097\n",
      "Data columns (total 9 columns):\n",
      " #   Column          Non-Null Count  Dtype  \n",
      "---  ------          --------------  -----  \n",
      " 0   address         1092 non-null   object \n",
      " 1   acres           1072 non-null   float64\n",
      " 2   year_built      1096 non-null   float64\n",
      " 3   square_feet     1098 non-null   object \n",
      " 4   bedrooms        1098 non-null   int64  \n",
      " 5   bathrooms       1098 non-null   int64  \n",
      " 6   half_bathrooms  1098 non-null   int64  \n",
      " 7   sale_price      1098 non-null   object \n",
      " 8   sale_date       1098 non-null   object \n",
      "dtypes: float64(2), int64(3), object(4)\n",
      "memory usage: 77.3+ KB\n"
     ]
    },
    {
     "data": {
      "text/html": [
       "<div>\n",
       "<style scoped>\n",
       "    .dataframe tbody tr th:only-of-type {\n",
       "        vertical-align: middle;\n",
       "    }\n",
       "\n",
       "    .dataframe tbody tr th {\n",
       "        vertical-align: top;\n",
       "    }\n",
       "\n",
       "    .dataframe thead th {\n",
       "        text-align: right;\n",
       "    }\n",
       "</style>\n",
       "<table border=\"1\" class=\"dataframe\">\n",
       "  <thead>\n",
       "    <tr style=\"text-align: right;\">\n",
       "      <th></th>\n",
       "      <th>address</th>\n",
       "      <th>acres</th>\n",
       "      <th>year_built</th>\n",
       "      <th>square_feet</th>\n",
       "      <th>bedrooms</th>\n",
       "      <th>bathrooms</th>\n",
       "      <th>half_bathrooms</th>\n",
       "      <th>sale_price</th>\n",
       "      <th>sale_date</th>\n",
       "    </tr>\n",
       "  </thead>\n",
       "  <tbody>\n",
       "    <tr>\n",
       "      <th>0</th>\n",
       "      <td>14905 HWY 101 N COUNTY OR</td>\n",
       "      <td>0.06</td>\n",
       "      <td>1,992.00</td>\n",
       "      <td>896</td>\n",
       "      <td>2</td>\n",
       "      <td>1</td>\n",
       "      <td>0</td>\n",
       "      <td>$290,000</td>\n",
       "      <td>6/1/2021</td>\n",
       "    </tr>\n",
       "    <tr>\n",
       "      <th>1</th>\n",
       "      <td>1 SHORT BEACH WAY COUNTY OR</td>\n",
       "      <td>10.36</td>\n",
       "      <td>2,002.00</td>\n",
       "      <td>2,428</td>\n",
       "      <td>2</td>\n",
       "      <td>2</td>\n",
       "      <td>0</td>\n",
       "      <td>$1,600,000</td>\n",
       "      <td>6/1/2021</td>\n",
       "    </tr>\n",
       "    <tr>\n",
       "      <th>2</th>\n",
       "      <td>131 CLASSIC ST MANZANITA OR</td>\n",
       "      <td>NaN</td>\n",
       "      <td>1,999.00</td>\n",
       "      <td>1,373</td>\n",
       "      <td>3</td>\n",
       "      <td>2</td>\n",
       "      <td>1</td>\n",
       "      <td>$430,000</td>\n",
       "      <td>6/1/2021</td>\n",
       "    </tr>\n",
       "    <tr>\n",
       "      <th>3</th>\n",
       "      <td>2513 5TH ST TILLAMOOK OR</td>\n",
       "      <td>0.18</td>\n",
       "      <td>1,910.00</td>\n",
       "      <td>2,396</td>\n",
       "      <td>4</td>\n",
       "      <td>2</td>\n",
       "      <td>0</td>\n",
       "      <td>$365,000</td>\n",
       "      <td>6/1/2021</td>\n",
       "    </tr>\n",
       "    <tr>\n",
       "      <th>4</th>\n",
       "      <td>34635 CAPE KIWANDA DR COUNTY OR</td>\n",
       "      <td>0.11</td>\n",
       "      <td>1,964.00</td>\n",
       "      <td>768</td>\n",
       "      <td>2</td>\n",
       "      <td>1</td>\n",
       "      <td>0</td>\n",
       "      <td>$376,000</td>\n",
       "      <td>6/2/2021</td>\n",
       "    </tr>\n",
       "  </tbody>\n",
       "</table>\n",
       "</div>"
      ],
      "text/plain": [
       "                           address                acres           year_built  \\\n",
       "0        14905 HWY 101 N COUNTY OR                 0.06             1,992.00   \n",
       "1      1 SHORT BEACH WAY COUNTY OR                10.36             2,002.00   \n",
       "2      131 CLASSIC ST MANZANITA OR                  NaN             1,999.00   \n",
       "3         2513 5TH ST TILLAMOOK OR                 0.18             1,910.00   \n",
       "4  34635 CAPE KIWANDA DR COUNTY OR                 0.11             1,964.00   \n",
       "\n",
       "  square_feet  bedrooms  bathrooms  half_bathrooms   sale_price sale_date  \n",
       "0         896         2          1               0    $290,000   6/1/2021  \n",
       "1       2,428         2          2               0  $1,600,000   6/1/2021  \n",
       "2       1,373         3          2               1    $430,000   6/1/2021  \n",
       "3       2,396         4          2               0    $365,000   6/1/2021  \n",
       "4         768         2          1               0    $376,000   6/2/2021  "
      ]
     },
     "execution_count": 167,
     "metadata": {},
     "output_type": "execute_result"
    }
   ],
   "source": [
    "df = pd.read_csv('tillamook_home_sales.csv')\n",
    "df.info()\n",
    "df.describe()\n",
    "df.head()"
   ]
  },
  {
   "cell_type": "markdown",
   "metadata": {},
   "source": [
    "The data appears to be relatively clean, but there is some work to do. Let’s get rid of the non numeric symbols and update the data types."
   ]
  },
  {
   "cell_type": "code",
   "execution_count": 168,
   "metadata": {},
   "outputs": [
    {
     "name": "stderr",
     "output_type": "stream",
     "text": [
      "C:\\Users\\Jonbi\\AppData\\Local\\Temp\\ipykernel_8536\\2470725402.py:2: FutureWarning: The default value of regex will change from True to False in a future version. In addition, single character regular expressions will *not* be treated as literal strings when regex=True.\n",
      "  df['sale_price'] = df['sale_price'].str.replace('$', '')\n",
      "C:\\Users\\Jonbi\\AppData\\Local\\Temp\\ipykernel_8536\\2470725402.py:5: FutureWarning: The default value of regex will change from True to False in a future version. In addition, single character regular expressions will *not* be treated as literal strings when regex=True.\n",
      "  df['square_feet'] = df['square_feet'].str.replace('$', '')\n"
     ]
    }
   ],
   "source": [
    "df['sale_price'] = df['sale_price'].str.replace(',', '')\n",
    "df['sale_price'] = df['sale_price'].str.replace('$', '')\n",
    "df['sale_price'] = df['sale_price'].astype(float)\n",
    "df['square_feet'] = df['square_feet'].str.replace(',', '')\n",
    "df['square_feet'] = df['square_feet'].str.replace('$', '')\n",
    "df['square_feet'] = df['square_feet'].astype(float)"
   ]
  },
  {
   "cell_type": "markdown",
   "metadata": {},
   "source": [
    "We’ll be using this same data for multiple regression and logistic regression projects, so I will leave most of the features in place. We can drop the ‘year_built’ column though."
   ]
  },
  {
   "cell_type": "code",
   "execution_count": 169,
   "metadata": {},
   "outputs": [],
   "source": [
    "df.dropna(subset=['year_built'], thresh=1, inplace=True)"
   ]
  },
  {
   "cell_type": "markdown",
   "metadata": {},
   "source": [
    "Let’s look at the info again to confirm our changes."
   ]
  },
  {
   "cell_type": "code",
   "execution_count": 170,
   "metadata": {},
   "outputs": [
    {
     "name": "stdout",
     "output_type": "stream",
     "text": [
      "<class 'pandas.core.frame.DataFrame'>\n",
      "Int64Index: 1096 entries, 0 to 1097\n",
      "Data columns (total 9 columns):\n",
      " #   Column          Non-Null Count  Dtype  \n",
      "---  ------          --------------  -----  \n",
      " 0   address         1090 non-null   object \n",
      " 1   acres           1070 non-null   float64\n",
      " 2   year_built      1096 non-null   float64\n",
      " 3   square_feet     1096 non-null   float64\n",
      " 4   bedrooms        1096 non-null   int64  \n",
      " 5   bathrooms       1096 non-null   int64  \n",
      " 6   half_bathrooms  1096 non-null   int64  \n",
      " 7   sale_price      1096 non-null   float64\n",
      " 8   sale_date       1096 non-null   object \n",
      "dtypes: float64(4), int64(3), object(2)\n",
      "memory usage: 85.6+ KB\n"
     ]
    }
   ],
   "source": [
    "df.info()"
   ]
  },
  {
   "cell_type": "markdown",
   "metadata": {},
   "source": [
    "Next, let’s confirm that there is in fact a linear relationship between our dependent variable (sale price) and independent variable (square footage). There are many ways to do this, but I like using correlation matrices and scatter plots."
   ]
  },
  {
   "cell_type": "code",
   "execution_count": 171,
   "metadata": {},
   "outputs": [
    {
     "data": {
      "text/plain": [
       "<AxesSubplot: >"
      ]
     },
     "execution_count": 171,
     "metadata": {},
     "output_type": "execute_result"
    },
    {
     "data": {
      "image/png": "[encoded data removed]",
      "text/plain": [
       "<Figure size 432x288 with 2 Axes>"
      ]
     },
     "metadata": {
      "needs_background": "light"
     },
     "output_type": "display_data"
    }
   ],
   "source": [
    "correlation_matrix = df.corr(method='pearson')\n",
    "sns.heatmap(correlation_matrix, annot=True)"
   ]
  },
  {
   "cell_type": "markdown",
   "metadata": {},
   "source": [
    "As you can see, the feature with the strongest correlation with sales price is square footage."
   ]
  },
  {
   "cell_type": "code",
   "execution_count": 172,
   "metadata": {},
   "outputs": [
    {
     "name": "stderr",
     "output_type": "stream",
     "text": [
      "c:\\Users\\Jonbi\\AppData\\Local\\Programs\\Python\\Python310\\lib\\site-packages\\pandas\\plotting\\_matplotlib\\core.py:1114: UserWarning: No data for colormapping provided via 'c'. Parameters 'cmap' will be ignored\n",
      "  scatter = ax.scatter(\n"
     ]
    },
    {
     "data": {
      "image/png": "[encoded data removed]",
      "text/plain": [
       "<Figure size 432x288 with 1 Axes>"
      ]
     },
     "metadata": {
      "needs_background": "light"
     },
     "output_type": "display_data"
    }
   ],
   "source": [
    "df.plot.scatter(x='square_feet', y='sale_price', c='blue')\n",
    "plt.ticklabel_format(style='plain', useOffset=False, axis='y')"
   ]
  },
  {
   "cell_type": "markdown",
   "metadata": {},
   "source": [
    "Here we can see that there is an obvious positive linear relationship between the variables. Let's look at the equation for simple linear regression.\n",
    "\n",
    "<img src=\"Capture.PNG\" width=\"400\" />\n"
   ]
  },
  {
   "cell_type": "markdown",
   "metadata": {},
   "source": [
    "- E(y) is the estimated value of y (sales price)\n",
    "- $\\beta_{0}$ is the y intercept \n",
    "- $\\beta_{1}$ is the slope\n",
    "- x is the given value of x (square footage)\n",
    "\n",
    "In plain english this is saying that the expected home price is equal to the slope multiplied by a given value of x, plus the y intercept. This may look familiar to you if you remember the slope intercept form of a line from high school algebra. If we used *m* to represent the slope and *b* to represent the y intercept and changed the order, we'd have *y = mx + b*! That’s all well and good, but how do we get the slope and y intercept from our data? Let's start with the formula for calculating the slope."
   ]
  },
  {
   "cell_type": "markdown",
   "metadata": {},
   "source": [
    "<img src=\"slope.PNG\" width=\"400\" />"
   ]
  },
  {
   "cell_type": "markdown",
   "metadata": {},
   "source": [
    "If you aren't accustomed to working with formulas, this may look a little unwieldy. Once we know what all of these symbols mean you’ll see that it is much less complicated than it looks.\n",
    "\n",
    "- $\\beta_{0}$  is the y intercept\n",
    "- $\\beta_{1}$ is the slope.\n",
    "- $y_{i}$ is the value of y\n",
    "- $x_{i}$  is the value of the independent x\n",
    "- $\\bar{x}$  is the mean of the independent variable\n",
    "- $\\bar{y}$ is the mean of the dependent variable\n",
    "- ∑ is called sigma and is used to denote a sum of multiple terms. \n",
    "\n",
    "\n",
    "Let’s determine out what this is saying in plain english. To calculate the numerator we will need to:\n",
    "\n",
    "<ol>\n",
    "    <li> Subtract the value of every x from the mean of x\n",
    "    <li> Subtract the value of every y from the mean of y\n",
    "    <li> Multiply the results of the previous two steps\n",
    "    <li> Add up all of the products (we should have 1,097)\n",
    "</ol>\n",
    "\n",
    "\n",
    "To calculate the denominator we will need to \n",
    "\n",
    "<ol>\n",
    "    <li>Subtract the value of every x from the mean of x (just like we did previously)\n",
    "    <li>Square the resulting product\n",
    "    <li>Add up all of the products\n",
    "</ol>\n",
    "\n",
    "The last step is to divide the results and we have our slope! As you can see, none of the steps above are complicated, but each step has to be repeated for every row in our dataset. Since our goal is to understand why this formula works, it's worth taking a closer look at what this formula is doing. \n",
    "\n",
    "In the first two steps for both the numerator and the denominator we’re subtracting the *value* of x or y from the *mean*. These are also called the residual, or error for each x, y pair. Put another way, we’re finding how much each x, y pair deviates from the mean. There is quite a bit of overlap between this slope formula and the formula for calculating standard deviation. Instead rewriting this formula in python and iterating through the records in our datadrame, I’m going to create another dataframe so that we can see walk through this formula one step at a time.\n",
    "\n"
   ]
  },
  {
   "cell_type": "code",
   "execution_count": 173,
   "metadata": {},
   "outputs": [],
   "source": [
    "calculations = pd.DataFrame({'x (square_feet)': [], 'y (sale_price)': [], 'square_feet_deviation': [], 'sale_price_deviation': [], 'deviation_products': [], 'square_feet_deviation_squared': []})\n",
    "calculations = calculations.astype(float)"
   ]
  },
  {
   "cell_type": "markdown",
   "metadata": {},
   "source": [
    "Next I’ll grab the x and y values from our data frame and bring them over to the calculations dataframe."
   ]
  },
  {
   "cell_type": "code",
   "execution_count": 174,
   "metadata": {},
   "outputs": [],
   "source": [
    "calculations['x (square_feet)'] = df['square_feet']\n",
    "calculations['y (sale_price)'] = df['sale_price']"
   ]
  },
  {
   "cell_type": "markdown",
   "metadata": {},
   "source": [
    "We know that our formula uses the mean of x and y, so let’s calculate those."
   ]
  },
  {
   "cell_type": "code",
   "execution_count": 175,
   "metadata": {},
   "outputs": [
    {
     "name": "stdout",
     "output_type": "stream",
     "text": [
      "1672.3366788321168\n",
      "556561.8494525547\n"
     ]
    }
   ],
   "source": [
    "mean_of_x = calculations['x (square_feet)'].mean()\n",
    "mean_of_y = calculations['y (sale_price)'].mean()\n",
    "print(mean_of_x)\n",
    "print(mean_of_y)"
   ]
  },
  {
   "cell_type": "markdown",
   "metadata": {},
   "source": [
    "Now we can begin going through the steps of the slope formula and populating the columns with our results. First we subtract the value of every x from the mean of x to and put the results in the square feet deviations column.\n",
    "\n",
    "<img src=\"xi.PNG\" width=\"200\" />"
   ]
  },
  {
   "cell_type": "code",
   "execution_count": 176,
   "metadata": {},
   "outputs": [],
   "source": [
    "calculations['square_feet_deviation'] = calculations['x (square_feet)'].subtract(mean_of_x)"
   ]
  },
  {
   "cell_type": "markdown",
   "metadata": {},
   "source": [
    "For the third step we multiply the deviations together and add the result to the deviations product column.\n",
    "\n",
    "<img src=\"[z_plane.png](https://github.com/jonbig/Data_Science_Portfolio/blob/main/data_analysis_projects/linear_regression_from_scratch/images/xy.PNG)\">"
   ]
  },
  {
   "cell_type": "code",
   "execution_count": 177,
   "metadata": {},
   "outputs": [],
   "source": [
    "calculations['deviation_products'] = calculations['square_feet_deviation'].mul(calculations['sale_price_deviation'])"
   ]
  },
  {
   "cell_type": "markdown",
   "metadata": {},
   "source": [
    "Now we will square the square feet deviations.\n",
    "\n",
    "<img src=\"xden.PNG\" width=\"200\" />"
   ]
  },
  {
   "cell_type": "code",
   "execution_count": 178,
   "metadata": {},
   "outputs": [],
   "source": [
    "calculations['square_feet_deviation_squared'] = calculations['square_feet_deviation'].mul(calculations['square_feet_deviation'])"
   ]
  },
  {
   "cell_type": "markdown",
   "metadata": {},
   "source": [
    "Let's take a quick look to make sure all of our calculations have populated in the correct coumns of our dataframe."
   ]
  },
  {
   "cell_type": "code",
   "execution_count": 179,
   "metadata": {},
   "outputs": [
    {
     "data": {
      "text/html": [
       "<div>\n",
       "<style scoped>\n",
       "    .dataframe tbody tr th:only-of-type {\n",
       "        vertical-align: middle;\n",
       "    }\n",
       "\n",
       "    .dataframe tbody tr th {\n",
       "        vertical-align: top;\n",
       "    }\n",
       "\n",
       "    .dataframe thead th {\n",
       "        text-align: right;\n",
       "    }\n",
       "</style>\n",
       "<table border=\"1\" class=\"dataframe\">\n",
       "  <thead>\n",
       "    <tr style=\"text-align: right;\">\n",
       "      <th></th>\n",
       "      <th>x (square_feet)</th>\n",
       "      <th>y (sale_price)</th>\n",
       "      <th>square_feet_deviation</th>\n",
       "      <th>sale_price_deviation</th>\n",
       "      <th>deviation_products</th>\n",
       "      <th>square_feet_deviation_squared</th>\n",
       "    </tr>\n",
       "  </thead>\n",
       "  <tbody>\n",
       "    <tr>\n",
       "      <th>0</th>\n",
       "      <td>896.00</td>\n",
       "      <td>290,000.00</td>\n",
       "      <td>-776.34</td>\n",
       "      <td>NaN</td>\n",
       "      <td>NaN</td>\n",
       "      <td>602,698.64</td>\n",
       "    </tr>\n",
       "    <tr>\n",
       "      <th>1</th>\n",
       "      <td>2,428.00</td>\n",
       "      <td>1,600,000.00</td>\n",
       "      <td>755.66</td>\n",
       "      <td>NaN</td>\n",
       "      <td>NaN</td>\n",
       "      <td>571,027.05</td>\n",
       "    </tr>\n",
       "    <tr>\n",
       "      <th>2</th>\n",
       "      <td>1,373.00</td>\n",
       "      <td>430,000.00</td>\n",
       "      <td>-299.34</td>\n",
       "      <td>NaN</td>\n",
       "      <td>NaN</td>\n",
       "      <td>89,602.45</td>\n",
       "    </tr>\n",
       "    <tr>\n",
       "      <th>3</th>\n",
       "      <td>2,396.00</td>\n",
       "      <td>365,000.00</td>\n",
       "      <td>723.66</td>\n",
       "      <td>NaN</td>\n",
       "      <td>NaN</td>\n",
       "      <td>523,688.60</td>\n",
       "    </tr>\n",
       "    <tr>\n",
       "      <th>4</th>\n",
       "      <td>768.00</td>\n",
       "      <td>376,000.00</td>\n",
       "      <td>-904.34</td>\n",
       "      <td>NaN</td>\n",
       "      <td>NaN</td>\n",
       "      <td>817,824.83</td>\n",
       "    </tr>\n",
       "  </tbody>\n",
       "</table>\n",
       "</div>"
      ],
      "text/plain": [
       "       x (square_feet)       y (sale_price)  square_feet_deviation  \\\n",
       "0               896.00           290,000.00                -776.34   \n",
       "1             2,428.00         1,600,000.00                 755.66   \n",
       "2             1,373.00           430,000.00                -299.34   \n",
       "3             2,396.00           365,000.00                 723.66   \n",
       "4               768.00           376,000.00                -904.34   \n",
       "\n",
       "   sale_price_deviation  deviation_products  square_feet_deviation_squared  \n",
       "0                   NaN                 NaN                     602,698.64  \n",
       "1                   NaN                 NaN                     571,027.05  \n",
       "2                   NaN                 NaN                      89,602.45  \n",
       "3                   NaN                 NaN                     523,688.60  \n",
       "4                   NaN                 NaN                     817,824.83  "
      ]
     },
     "execution_count": 179,
     "metadata": {},
     "output_type": "execute_result"
    }
   ],
   "source": [
    "calculations.head()"
   ]
  },
  {
   "cell_type": "markdown",
   "metadata": {},
   "source": [
    "Now we can add all deviation products together to get the numerator of the slope.\n",
    "\n",
    "<img src=\"sum x.PNG\" width=\"300\" />"
   ]
  },
  {
   "cell_type": "code",
   "execution_count": 180,
   "metadata": {},
   "outputs": [
    {
     "name": "stdout",
     "output_type": "stream",
     "text": [
      "0.0\n"
     ]
    }
   ],
   "source": [
    "sum_deviation_products = calculations['deviation_products'].sum()\n",
    "print(sum_deviation_products)\n"
   ]
  },
  {
   "cell_type": "markdown",
   "metadata": {},
   "source": [
    "\n",
    "Then we add the square feet deviations together to get the denominator of our slope.\n",
    "\n",
    "<img src=\"xx.PNG\" width=\"200\" />"
   ]
  },
  {
   "cell_type": "code",
   "execution_count": 181,
   "metadata": {},
   "outputs": [
    {
     "name": "stdout",
     "output_type": "stream",
     "text": [
      "616233730.7655109\n"
     ]
    }
   ],
   "source": [
    "sum_square_feet_deviations_squared = calculations['square_feet_deviation_squared'].sum()\n",
    "print(sum_square_feet_deviations_squared)"
   ]
  },
  {
   "cell_type": "markdown",
   "metadata": {},
   "source": [
    "The last step to find our slope is to divide the numerator by the denominator and we have our slope!\n",
    "\n",
    "<img src=\"div.PNG\" width=\"300\" />"
   ]
  },
  {
   "cell_type": "code",
   "execution_count": 182,
   "metadata": {},
   "outputs": [
    {
     "name": "stdout",
     "output_type": "stream",
     "text": [
      "0.0\n"
     ]
    }
   ],
   "source": [
    "slope = sum_deviation_products/sum_square_feet_deviations_squared\n",
    "print(slope)"
   ]
  },
  {
   "cell_type": "markdown",
   "metadata": {},
   "source": [
    "Next we need to calculate the y intercept:\n",
    "\n",
    "<img src=\"ycept.PNG\" width=\"300\" />\n",
    "\n",
    "This formula is much less complcated than the slope formula. It tells us that the y intercept is equal to the mean of the dependent variable minus the product of the slope and the mean of the independent variable. We already have our slope and the mean of the dependent variable so we can easily calculate the y intercept."
   ]
  },
  {
   "cell_type": "markdown",
   "metadata": {},
   "source": [
    "This formula is much simpler. It tells us that the intercept is equal to the mean of the dependent variable minus the product of the slope and the mean of the independent variable. This time we don’t need to worry about doing 1,000 calculations, and we already have our slope and the mean of the dependent variable so we can easily calculate the y intercept."
   ]
  },
  {
   "cell_type": "code",
   "execution_count": 183,
   "metadata": {},
   "outputs": [
    {
     "name": "stdout",
     "output_type": "stream",
     "text": [
      "556561.8494525547\n"
     ]
    }
   ],
   "source": [
    "y_intercept = mean_of_y - slope * mean_of_x\n",
    "print(y_intercept)"
   ]
  },
  {
   "cell_type": "markdown",
   "metadata": {},
   "source": [
    "Now we have our model! According to these calculations or model is <strong>E(y) = 61370.1400 + 296.1076(x)</strong>. Before we plot our line, we need to write a quick function that takes a slope and y intercept as parameters and plots the resulting line."
   ]
  },
  {
   "cell_type": "code",
   "execution_count": 184,
   "metadata": {},
   "outputs": [],
   "source": [
    "def regression_line(slope, intercept):\n",
    "    \"\"\"Plot a line from slope and intercept\"\"\"\n",
    "    axes = plt.gca()\n",
    "    x_vals = np.array(axes.get_xlim())\n",
    "    y_vals = intercept + slope * x_vals\n",
    "    plt.plot(x_vals, y_vals, '--')"
   ]
  },
  {
   "cell_type": "markdown",
   "metadata": {},
   "source": [
    "Now we can call our regression line function on our scatter plot to see how our model looks."
   ]
  },
  {
   "cell_type": "code",
   "execution_count": 185,
   "metadata": {},
   "outputs": [
    {
     "name": "stderr",
     "output_type": "stream",
     "text": [
      "c:\\Users\\Jonbi\\AppData\\Local\\Programs\\Python\\Python310\\lib\\site-packages\\pandas\\plotting\\_matplotlib\\core.py:1114: UserWarning: No data for colormapping provided via 'c'. Parameters 'cmap' will be ignored\n",
      "  scatter = ax.scatter(\n"
     ]
    },
    {
     "data": {
      "image/png": "[encoded data removed]",
      "text/plain": [
       "<Figure size 432x288 with 1 Axes>"
      ]
     },
     "metadata": {
      "needs_background": "light"
     },
     "output_type": "display_data"
    }
   ],
   "source": [
    "df.plot.scatter(x='square_feet', y='sale_price',c='red')\n",
    "plt.ticklabel_format(style='plain', useOffset=False, axis='y')\n",
    "regression_line(slope, y_intercept)\n",
    "plt.show()"
   ]
  },
  {
   "cell_type": "markdown",
   "metadata": {},
   "source": [
    "This definitely looks like a best fit line to me, but how do we know for sure? One way is to use seaborn’s regplot function to plot a linear regression and see if it looks the same as the one we built from scratch. "
   ]
  },
  {
   "cell_type": "code",
   "execution_count": 186,
   "metadata": {},
   "outputs": [
    {
     "data": {
      "text/plain": [
       "<AxesSubplot: xlabel='square_feet', ylabel='sale_price'>"
      ]
     },
     "execution_count": 186,
     "metadata": {},
     "output_type": "execute_result"
    },
    {
     "data": {
      "image/png": "[encoded data removed]",
      "text/plain": [
       "<Figure size 432x288 with 1 Axes>"
      ]
     },
     "metadata": {
      "needs_background": "light"
     },
     "output_type": "display_data"
    }
   ],
   "source": [
    "sns.regplot(x=\"square_feet\", y=\"sale_price\", data=df, scatter_kws={\"color\": \"red\"}, line_kws={\"color\": \"blue\"})"
   ]
  },
  {
   "cell_type": "markdown",
   "metadata": {},
   "source": [
    "The two models definitely seem to match at least at a glance, but we can get more precise. Using the statsmodels library we can calculate a simple linear regression and examine the coefficients to see if they match the coefficients we calculated."
   ]
  },
  {
   "cell_type": "code",
   "execution_count": 187,
   "metadata": {},
   "outputs": [
    {
     "data": {
      "text/html": [
       "<table class=\"simpletable\">\n",
       "<caption>OLS Regression Results</caption>\n",
       "<tr>\n",
       "  <th>Dep. Variable:</th>       <td>sale_price</td>    <th>  R-squared:         </th> <td>   0.301</td> \n",
       "</tr>\n",
       "<tr>\n",
       "  <th>Model:</th>                   <td>OLS</td>       <th>  Adj. R-squared:    </th> <td>   0.300</td> \n",
       "</tr>\n",
       "<tr>\n",
       "  <th>Method:</th>             <td>Least Squares</td>  <th>  F-statistic:       </th> <td>   470.1</td> \n",
       "</tr>\n",
       "<tr>\n",
       "  <th>Date:</th>             <td>Wed, 04 Jan 2023</td> <th>  Prob (F-statistic):</th> <td>5.32e-87</td> \n",
       "</tr>\n",
       "<tr>\n",
       "  <th>Time:</th>                 <td>16:48:14</td>     <th>  Log-Likelihood:    </th> <td> -15510.</td> \n",
       "</tr>\n",
       "<tr>\n",
       "  <th>No. Observations:</th>      <td>  1096</td>      <th>  AIC:               </th> <td>3.102e+04</td>\n",
       "</tr>\n",
       "<tr>\n",
       "  <th>Df Residuals:</th>          <td>  1094</td>      <th>  BIC:               </th> <td>3.103e+04</td>\n",
       "</tr>\n",
       "<tr>\n",
       "  <th>Df Model:</th>              <td>     1</td>      <th>                     </th>     <td> </td>    \n",
       "</tr>\n",
       "<tr>\n",
       "  <th>Covariance Type:</th>      <td>nonrobust</td>    <th>                     </th>     <td> </td>    \n",
       "</tr>\n",
       "</table>\n",
       "<table class=\"simpletable\">\n",
       "<tr>\n",
       "       <td></td>          <th>coef</th>     <th>std err</th>      <th>t</th>      <th>P>|t|</th>  <th>[0.025</th>    <th>0.975]</th>  \n",
       "</tr>\n",
       "<tr>\n",
       "  <th>Intercept</th>   <td> 6.137e+04</td> <td>  2.5e+04</td> <td>    2.452</td> <td> 0.014</td> <td> 1.23e+04</td> <td>  1.1e+05</td>\n",
       "</tr>\n",
       "<tr>\n",
       "  <th>square_feet</th> <td>  296.1077</td> <td>   13.657</td> <td>   21.681</td> <td> 0.000</td> <td>  269.310</td> <td>  322.905</td>\n",
       "</tr>\n",
       "</table>\n",
       "<table class=\"simpletable\">\n",
       "<tr>\n",
       "  <th>Omnibus:</th>       <td>1189.181</td> <th>  Durbin-Watson:     </th>  <td>   1.927</td> \n",
       "</tr>\n",
       "<tr>\n",
       "  <th>Prob(Omnibus):</th>  <td> 0.000</td>  <th>  Jarque-Bera (JB):  </th> <td>126037.274</td>\n",
       "</tr>\n",
       "<tr>\n",
       "  <th>Skew:</th>           <td> 5.082</td>  <th>  Prob(JB):          </th>  <td>    0.00</td> \n",
       "</tr>\n",
       "<tr>\n",
       "  <th>Kurtosis:</th>       <td>54.543</td>  <th>  Cond. No.          </th>  <td>4.48e+03</td> \n",
       "</tr>\n",
       "</table><br/><br/>Notes:<br/>[1] Standard Errors assume that the covariance matrix of the errors is correctly specified.<br/>[2] The condition number is large, 4.48e+03. This might indicate that there are<br/>strong multicollinearity or other numerical problems."
      ],
      "text/plain": [
       "<class 'statsmodels.iolib.summary.Summary'>\n",
       "\"\"\"\n",
       "                            OLS Regression Results                            \n",
       "==============================================================================\n",
       "Dep. Variable:             sale_price   R-squared:                       0.301\n",
       "Model:                            OLS   Adj. R-squared:                  0.300\n",
       "Method:                 Least Squares   F-statistic:                     470.1\n",
       "Date:                Wed, 04 Jan 2023   Prob (F-statistic):           5.32e-87\n",
       "Time:                        16:48:14   Log-Likelihood:                -15510.\n",
       "No. Observations:                1096   AIC:                         3.102e+04\n",
       "Df Residuals:                    1094   BIC:                         3.103e+04\n",
       "Df Model:                           1                                         \n",
       "Covariance Type:            nonrobust                                         \n",
       "===============================================================================\n",
       "                  coef    std err          t      P>|t|      [0.025      0.975]\n",
       "-------------------------------------------------------------------------------\n",
       "Intercept    6.137e+04    2.5e+04      2.452      0.014    1.23e+04     1.1e+05\n",
       "square_feet   296.1077     13.657     21.681      0.000     269.310     322.905\n",
       "==============================================================================\n",
       "Omnibus:                     1189.181   Durbin-Watson:                   1.927\n",
       "Prob(Omnibus):                  0.000   Jarque-Bera (JB):           126037.274\n",
       "Skew:                           5.082   Prob(JB):                         0.00\n",
       "Kurtosis:                      54.543   Cond. No.                     4.48e+03\n",
       "==============================================================================\n",
       "\n",
       "Notes:\n",
       "[1] Standard Errors assume that the covariance matrix of the errors is correctly specified.\n",
       "[2] The condition number is large, 4.48e+03. This might indicate that there are\n",
       "strong multicollinearity or other numerical problems.\n",
       "\"\"\""
      ]
     },
     "execution_count": 187,
     "metadata": {},
     "output_type": "execute_result"
    }
   ],
   "source": [
    "from statsmodels.formula.api import ols\n",
    "model_name = ols('sale_price ~ square_feet', data=df).fit()\n",
    "model_name.summary()"
   ]
  },
  {
   "cell_type": "markdown",
   "metadata": {},
   "source": [
    "\n",
    "Statsmodel calculated y intercept of 6.137e+04. If we convert the scientific e notation to real number, we get 61,370. That’s almost an exact match of our calculated y intercept was 61,370.14. The slight difference is due to rounding. Statsmodel calculated a slope of 296.1077 which exactly matches our calculated slope. We successfully built a simple linear regression model from scratch! \n",
    "\n",
    "But how well does the model perform? Statsmodel gives us several metrics we can use to determine how well our model fits the underlying data. The metric I’m focusing on is the coefficient of determination, or $r^2$. Here is the formula for $r^2$. You will notice some similarities between this formula and the formulas we've already worked with. \n",
    "\n",
    "<img src=\"r2.PNG\" width=\"400\" />\n",
    "\n",
    "Our model has an $r^2$ of 0.301. That means the model explains around 30% of the variance of a home’s sales price. That is not a great score, and it’s probably not surprising if you examined the scatter plot and pearson correlation coefficient. Maybe we can build a better model by incorporating more independent variables, but we will have to save that for our multiple regression from scratch project. Hopefully this project helped you gain an intuitive understand of how linear regression works.\n",
    "\n",
    "https://github.com/jonbig/Data_Science_Portfolio/blob/main/data_analysis_projects/linear_regression_from_scratch/r2.PNG\n"
   ]
  }
 ],
 "metadata": {
  "kernelspec": {
   "display_name": "Python 3.10.5 64-bit",
   "language": "python",
   "name": "python3"
  },
  "language_info": {
   "codemirror_mode": {
    "name": "ipython",
    "version": 3
   },
   "file_extension": ".py",
   "mimetype": "text/x-python",
   "name": "python",
   "nbconvert_exporter": "python",
   "pygments_lexer": "ipython3",
   "version": "3.10.5"
  },
  "orig_nbformat": 4,
  "vscode": {
   "interpreter": {
    "hash": "75e4320e024ef7ef2fc01497b2f381c99ba9fe4686f9f952a4ef6b3e74ca2cc2"
   }
  }
 },
 "nbformat": 4,
 "nbformat_minor": 2
}
