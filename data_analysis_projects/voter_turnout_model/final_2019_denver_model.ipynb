{
 "cells": [
  {
   "cell_type": "code",
   "execution_count": 1,
   "metadata": {},
   "outputs": [],
   "source": [
    "#Original model used in 2023 muni election, Sarah Parady"
   ]
  },
  {
   "cell_type": "code",
   "execution_count": 2,
   "metadata": {},
   "outputs": [],
   "source": [
    "import pandas as pd\n",
    "import matplotlib.pyplot as plt\n",
    "import numpy as np\n",
    "import seaborn as sns"
   ]
  },
  {
   "cell_type": "code",
   "execution_count": 3,
   "metadata": {},
   "outputs": [
    {
     "name": "stderr",
     "output_type": "stream",
     "text": [
      "C:\\Users\\Jonbi\\AppData\\Local\\Temp\\ipykernel_19120\\3164849326.py:5: DtypeWarning: Columns (13,14,15,17,28,29,31,32,33,35,36,89,92,94,95,97,98,99,102,103,104,105,107,109,117,119,124) have mixed types. Specify dtype option on import or set low_memory=False.\n",
      "  df = pd.read_csv(file)\n",
      "C:\\Users\\Jonbi\\AppData\\Local\\Temp\\ipykernel_19120\\3164849326.py:5: DtypeWarning: Columns (13,14,15,17,31,35,85,87,89,91,92,94,95,98,99,102,103,105,111,117,119,123,124) have mixed types. Specify dtype option on import or set low_memory=False.\n",
      "  df = pd.read_csv(file)\n",
      "C:\\Users\\Jonbi\\AppData\\Local\\Temp\\ipykernel_19120\\3164849326.py:5: DtypeWarning: Columns (13,14,15,17,28,31,32,35,36,85,89,92,94,95,98,102,103,105,107,111,117,119,124) have mixed types. Specify dtype option on import or set low_memory=False.\n",
      "  df = pd.read_csv(file)\n",
      "C:\\Users\\Jonbi\\AppData\\Local\\Temp\\ipykernel_19120\\3164849326.py:5: DtypeWarning: Columns (13,14,15,17,31,32,35,36,85,87,89,92,94,95,97,98,100,102,103,105,107,117,119,124,126) have mixed types. Specify dtype option on import or set low_memory=False.\n",
      "  df = pd.read_csv(file)\n",
      "C:\\Users\\Jonbi\\AppData\\Local\\Temp\\ipykernel_19120\\3164849326.py:5: DtypeWarning: Columns (13,14,89,92,95,97,98,99,102,105,107,109,115,117,119,124) have mixed types. Specify dtype option on import or set low_memory=False.\n",
      "  df = pd.read_csv(file)\n",
      "C:\\Users\\Jonbi\\AppData\\Local\\Temp\\ipykernel_19120\\3164849326.py:5: DtypeWarning: Columns (13,14,15,17,28,29,30,31,32,33,35,36,51,53,82,85,86,87,88,89,90,92,97,98,99,101,102,103,104,105,107,109,110,111,115,117,119,123,124,126) have mixed types. Specify dtype option on import or set low_memory=False.\n",
      "  df = pd.read_csv(file)\n",
      "C:\\Users\\Jonbi\\AppData\\Local\\Temp\\ipykernel_19120\\3164849326.py:5: DtypeWarning: Columns (13,14,15,17,31,32,87,89,92,94,97,98,99,100,102,103,105,107,117,119,123,124) have mixed types. Specify dtype option on import or set low_memory=False.\n",
      "  df = pd.read_csv(file)\n",
      "C:\\Users\\Jonbi\\AppData\\Local\\Temp\\ipykernel_19120\\3164849326.py:5: DtypeWarning: Columns (13,14,15,17,28,31,32,35,36,87,89,91,92,94,97,98,99,102,103,104,105,107,111,115,117,119,124) have mixed types. Specify dtype option on import or set low_memory=False.\n",
      "  df = pd.read_csv(file)\n"
     ]
    }
   ],
   "source": [
    "#read in voterfile csvs and combine them into one df\n",
    "filenames = ['hd1.csv', 'hd2.csv', 'hd4.csv', 'hd5.csv', 'hd6.csv', 'hd7.csv', 'hd8.csv', 'hd9.csv', ]\n",
    "dataframes = []\n",
    "for file in filenames:\n",
    "    df = pd.read_csv(file)\n",
    "    dataframes.append(df)\n",
    "\n",
    "df = pd.concat(dataframes)"
   ]
  },
  {
   "cell_type": "code",
   "execution_count": 4,
   "metadata": {},
   "outputs": [
    {
     "data": {
      "text/plain": [
       "55216"
      ]
     },
     "execution_count": 4,
     "metadata": {},
     "output_type": "execute_result"
    }
   ],
   "source": [
    "#count duplicates\n",
    "num_duplicates = df.duplicated(subset='Voter File VANID').sum()\n",
    "num_duplicates "
   ]
  },
  {
   "cell_type": "code",
   "execution_count": 5,
   "metadata": {},
   "outputs": [],
   "source": [
    "#drop duplicates\n",
    "df = df.drop_duplicates(subset='Voter File VANID', keep='first')"
   ]
  },
  {
   "cell_type": "code",
   "execution_count": 6,
   "metadata": {},
   "outputs": [
    {
     "name": "stdout",
     "output_type": "stream",
     "text": [
      "['Voter File VANID', 'LastName', 'FirstName', 'MiddleName', 'Suffix', 'Sex', 'Age', 'EthnicName', 'Party', 'CD', 'SD', 'HD', 'PollingZip', 'Self Reported Ethnicity (pipe delimited)', 'Self Reported Race (pipe delimited)', 'VotedStatus', 'PrecinctName', 'EarlyVoted', 'YEARXXScoreSName', 'OffGen', 'CollegeGraduate', 'SpanishLanguagePrefe', 'ChoiceSupport', 'DNCDemPartySupportV1', 'DNCDemPartySupportV2', 'DNCMalaise', 'TO2022', 'DNCNationalTurnoutV2', 'DemPartyCaucus20', 'DemPartyCaucus18', 'DemPartyCaucus16', 'DemPartyCaucus14', 'DemPartyCaucus12', 'DemPartyCaucus10', 'DemPartyCaucus08', 'DemPartyCaucus06', 'DemPartyCaucus04', 'General20', 'General18', 'General16', 'General14', 'General12', 'General10', 'General08', 'General06', 'General04', 'General02', 'General01', 'General00', 'General99', 'General98', 'General97', 'General96', 'General95', 'NovemberMunicipal21', 'NovemberMunicipal19', 'NovemberMunicipal17', 'NovemberMunicipal15', 'NovemberMunicipal13', 'NovemberMunicipal11', 'NovemberMunicipal09', 'NovemberMunicipal07', 'NovemberMunicipal05', 'NovemberMunicipal03', 'PresidentialPrimary20', 'PresidentialPrimary20Party', 'Primary22', 'Primary22Party', 'Primary20', 'Primary20Party', 'Primary18', 'Primary18Party', 'Primary16', 'Primary16Party', 'Primary14', 'Primary14Party', 'Primary12', 'Primary12Party', 'Primary10', 'Primary10Party', 'Primary08', 'Primary08Party', 'Primary06', 'Primary04', 'Primary02', 'Primary01', 'Primary00', 'Primary99', 'Primary98', 'Primary97', 'Primary96', 'Primary95', 'Recall13', 'Runoff11', 'Special21', 'Special20', 'Special19', 'Special18', 'Special14', 'Special10', 'Special09', 'Special07', 'Special06', 'Special04', 'Special02', 'Special01', 'Special00', 'Special99', 'Special98', 'Special97', 'Special96', 'Special95', 'SpringMuniRunoff19', 'SpringMuniRunoff15', 'SpringMuniRunoff11', 'SpringMuniRunoff07', 'SpringMuniRunoff03', 'SpringMunicipal21', 'SpringMunicipal19', 'SpringMunicipal17', 'SpringMunicipal15', 'SpringMunicipal13', 'SpringMunicipal11', 'SpringMunicipal10', 'SpringMunicipal09', 'SpringMunicipal07', 'SpringMunicipal05', 'SpringMunicipal03']\n"
     ]
    }
   ],
   "source": [
    "#view all columns in df\n",
    "print(df.columns.tolist())"
   ]
  },
  {
   "cell_type": "code",
   "execution_count": 7,
   "metadata": {},
   "outputs": [],
   "source": [
    "#creating list of columns to drop\n",
    "\n",
    "columns_drop = ['LastName', 'FirstName', 'MiddleName', 'Suffix', 'EthnicName', 'CD', 'SD', 'HD', 'PollingZip', 'Self Reported Ethnicity (pipe delimited)', 'Self Reported Race (pipe delimited)', 'VotedStatus', \n",
    "'PrecinctName', 'EarlyVoted', 'YEARXXScoreSName', 'OffGen', 'CollegeGraduate', 'SpanishLanguagePrefe', 'ChoiceSupport', 'DNCDemPartySupportV1', 'DNCDemPartySupportV2', 'DNCMalaise', 'TO2022', 'DNCNationalTurnoutV2', \n",
    "'DemPartyCaucus14', 'DemPartyCaucus12', 'DemPartyCaucus10', 'DemPartyCaucus08', 'DemPartyCaucus06', 'DemPartyCaucus04', 'General14', 'General12', 'General10', 'General08', 'General06', 'General04', 'General02', 'General01', \n",
    "'General00', 'General99', 'General98', 'General97', 'General96', 'General95', 'NovemberMunicipal19', 'NovemberMunicipal17', 'NovemberMunicipal15', 'NovemberMunicipal13', 'NovemberMunicipal11', 'NovemberMunicipal09', \n",
    "'NovemberMunicipal07', 'NovemberMunicipal05', 'NovemberMunicipal03', 'PresidentialPrimary20', 'PresidentialPrimary20Party', 'Primary22', 'Primary22Party', 'Primary20', 'Primary20Party', 'Primary18', 'Primary18Party', \n",
    "'Primary16', 'Primary16Party', 'Primary14', 'Primary14Party', 'Primary12', 'Primary12Party', 'Primary10', 'Primary10Party', 'Primary08', 'Primary08Party', 'Primary06', 'Primary04', 'Primary02', 'Primary01', 'Primary00', \n",
    "'Primary99', 'Primary98', 'Primary97', 'Primary96', 'Primary95', 'Recall13', 'Runoff11', 'Special21', 'Special20', 'Special19', 'Special18', 'Special14', 'Special10', 'Special09', 'Special07', 'Special06', 'Special04', \n",
    "'Special02', 'Special01', 'Special00', 'Special99', 'Special98', 'Special97', 'Special96', 'Special95', 'SpringMuniRunoff11', 'SpringMuniRunoff07', 'SpringMuniRunoff03', 'SpringMunicipal21', 'SpringMunicipal17', 'SpringMunicipal15', \n",
    "'SpringMunicipal13', 'SpringMunicipal11', 'SpringMunicipal10', 'SpringMunicipal09', 'SpringMunicipal07', 'SpringMunicipal05', 'SpringMunicipal03']"
   ]
  },
  {
   "cell_type": "code",
   "execution_count": 8,
   "metadata": {},
   "outputs": [],
   "source": [
    "#creating list of columns to keep\n",
    "columns_keep = ['DemPartyCaucus20', 'DemPartyCaucus18', 'DemPartyCaucus16', 'General20', 'General18', 'General16', 'NovemberMunicipal21', 'SpringMunicipal19', 'SpringMuniRunoff19', 'SpringMuniRunoff15', 'Sex', 'Age', 'Party']"
   ]
  },
  {
   "cell_type": "code",
   "execution_count": 9,
   "metadata": {},
   "outputs": [],
   "source": [
    "#dropping unnecessary columns\n",
    "for column in columns_drop:\n",
    "    df.drop(column, axis=1, inplace= True)"
   ]
  },
  {
   "cell_type": "code",
   "execution_count": 10,
   "metadata": {},
   "outputs": [],
   "source": [
    "#creating list of columns to clean\n",
    "columns_to_clean = ['DemPartyCaucus20', 'DemPartyCaucus18', 'DemPartyCaucus16', 'General20', 'General18', 'General16', 'NovemberMunicipal21', 'SpringMuniRunoff19', 'SpringMuniRunoff15', 'SpringMuniRunoff19', 'SpringMunicipal19']"
   ]
  },
  {
   "cell_type": "code",
   "execution_count": 11,
   "metadata": {},
   "outputs": [],
   "source": [
    "#editing column so that 0 = no vote and 1 = vote\n",
    "for column in columns_to_clean:\n",
    "    df[column] = df[column].replace('A', 1)\n",
    "    df[column] = df[column].replace('P', 1)\n",
    "    df[column] = df[column].replace('E', 1)\n",
    "    df[column] = df[column].replace('Y', 1)\n",
    "    df[column] = df[column].replace('M', 1)\n",
    "    df[column] = df[column].replace('Q', 1)\n",
    "    df[column] = df[column].replace('V', 1)\n",
    "    df[column] = df[column].replace('Y', 1)\n",
    "    df[column].fillna(0, inplace= True)"
   ]
  },
  {
   "cell_type": "code",
   "execution_count": 12,
   "metadata": {},
   "outputs": [],
   "source": [
    "#Converting categorical variables into binary/dummy variables, one-hot encoding.\n",
    "df = pd.get_dummies(df)"
   ]
  },
  {
   "cell_type": "code",
   "execution_count": 13,
   "metadata": {},
   "outputs": [],
   "source": [
    "#removing redundant columns\n",
    "redundant_columns = ['Sex_U', 'Party_G']\n",
    "\n",
    "for column in redundant_columns:\n",
    "    df.drop(column, axis=1, inplace=True)"
   ]
  },
  {
   "cell_type": "code",
   "execution_count": 14,
   "metadata": {},
   "outputs": [
    {
     "name": "stdout",
     "output_type": "stream",
     "text": [
      "['Voter File VANID', 'Age', 'DemPartyCaucus20', 'DemPartyCaucus18', 'DemPartyCaucus16', 'General20', 'General18', 'General16', 'NovemberMunicipal21', 'SpringMuniRunoff19', 'SpringMuniRunoff15', 'SpringMunicipal19', 'Sex_F', 'Sex_M', 'Party_D', 'Party_L', 'Party_R', 'Party_U']\n"
     ]
    }
   ],
   "source": [
    "print(df.columns.tolist())"
   ]
  },
  {
   "cell_type": "code",
   "execution_count": 15,
   "metadata": {},
   "outputs": [],
   "source": [
    "#send dataframe to csv for later use\n",
    "df.to_csv('cleaned_voter_data.csv', index=False)"
   ]
  },
  {
   "cell_type": "code",
   "execution_count": 16,
   "metadata": {},
   "outputs": [],
   "source": [
    "#dropping the VAN ID column\n",
    "df = df.drop('Voter File VANID', axis=1)"
   ]
  },
  {
   "cell_type": "code",
   "execution_count": 17,
   "metadata": {},
   "outputs": [],
   "source": [
    "from sklearn.model_selection import train_test_split\n",
    "from sklearn.metrics import confusion_matrix\n",
    "from sklearn.linear_model import LogisticRegression"
   ]
  },
  {
   "cell_type": "code",
   "execution_count": 18,
   "metadata": {},
   "outputs": [],
   "source": [
    "#Removing the target feature and setting the dependent variable\n",
    "X = df.drop(['SpringMunicipal19'], axis = 1)\n",
    "y = df['SpringMunicipal19']"
   ]
  },
  {
   "cell_type": "code",
   "execution_count": 19,
   "metadata": {},
   "outputs": [
    {
     "data": {
      "text/plain": [
       "0.8901125440757378"
      ]
     },
     "execution_count": 19,
     "metadata": {},
     "output_type": "execute_result"
    }
   ],
   "source": [
    "#defining the model\n",
    "X_train, X_test, y_train, y_test = train_test_split(X, y, train_size = 0.8, random_state = 42)\n",
    "logReg = LogisticRegression(penalty='l2', solver='liblinear', C=0.001 )\n",
    "logReg.fit(X_train, y_train)\n",
    "logReg.score(X_test, y_test)"
   ]
  },
  {
   "cell_type": "code",
   "execution_count": 20,
   "metadata": {},
   "outputs": [],
   "source": [
    "predictions = logReg.predict(X_test)"
   ]
  },
  {
   "cell_type": "code",
   "execution_count": 21,
   "metadata": {},
   "outputs": [
    {
     "name": "stdout",
     "output_type": "stream",
     "text": [
      "              precision    recall  f1-score   support\n",
      "\n",
      "         0.0       0.90      0.95      0.92     57078\n",
      "         1.0       0.86      0.77      0.81     25734\n",
      "\n",
      "    accuracy                           0.89     82812\n",
      "   macro avg       0.88      0.86      0.87     82812\n",
      "weighted avg       0.89      0.89      0.89     82812\n",
      "\n"
     ]
    }
   ],
   "source": [
    "#Classification Report\n",
    "from sklearn.metrics import classification_report\n",
    "print(classification_report(y_test, predictions))"
   ]
  },
  {
   "cell_type": "code",
   "execution_count": 22,
   "metadata": {},
   "outputs": [
    {
     "data": {
      "text/plain": [
       "<sklearn.metrics._plot.roc_curve.RocCurveDisplay at 0x1e282d4fd30>"
      ]
     },
     "execution_count": 22,
     "metadata": {},
     "output_type": "execute_result"
    },
    {
     "data": {
      "image/png": "[encoded data removed]",
      "text/plain": [
       "<Figure size 720x720 with 1 Axes>"
      ]
     },
     "metadata": {
      "needs_background": "light"
     },
     "output_type": "display_data"
    }
   ],
   "source": [
    "#ROC curve\n",
    "from sklearn.metrics import RocCurveDisplay, auc, roc_auc_score\n",
    "fig, ax = plt.subplots(figsize=(10, 10))\n",
    "RocCurveDisplay.from_estimator(logReg, X_test, y_test, ax=ax)"
   ]
  },
  {
   "cell_type": "code",
   "execution_count": 23,
   "metadata": {},
   "outputs": [],
   "source": [
    "#K folds cross validation\n",
    "#from sklearn.model_selection import cross_val_score, GridSearchCV\n",
    "#score = cross_val_score(logReg, X_train, y_train, cv=5)\n",
    "#print('Cross-Validation Accuracy Scores', score)"
   ]
  },
  {
   "cell_type": "code",
   "execution_count": 24,
   "metadata": {},
   "outputs": [
    {
     "name": "stdout",
     "output_type": "stream",
     "text": [
      "Age : 0.0038710368395002276\n",
      "DemPartyCaucus20 : 0.09172692091885784\n",
      "DemPartyCaucus18 : 0.1251194666892021\n",
      "DemPartyCaucus16 : 0.32142831638651465\n",
      "General20 : 0.23083401423380231\n",
      "General18 : 1.3241843179714394\n",
      "General16 : 0.4940073039089994\n",
      "NovemberMunicipal21 : 1.0074909850685954\n",
      "SpringMuniRunoff19 : 2.4218030756893802\n",
      "SpringMuniRunoff15 : 0.46695170746336356\n",
      "Sex_F : -0.9817943783173121\n",
      "Sex_M : -0.9575961600457003\n",
      "Party_D : -0.6310345832645992\n",
      "Party_L : -0.18991891806515787\n",
      "Party_R : -0.5000948573989326\n",
      "Party_U : -0.6761140938305897\n"
     ]
    }
   ],
   "source": [
    "feature_names = X.columns.tolist()\n",
    "coefficients = logReg.coef_\n",
    "\n",
    "for feature, coef in zip(feature_names, coefficients[0]):\n",
    "    print(feature, ':', coef)"
   ]
  },
  {
   "cell_type": "code",
   "execution_count": 25,
   "metadata": {},
   "outputs": [],
   "source": [
    "#generate prediction scores on X (df with spring2019 column dropped)\n",
    "preds = logReg.predict_proba(X)"
   ]
  },
  {
   "cell_type": "code",
   "execution_count": 26,
   "metadata": {},
   "outputs": [],
   "source": [
    "#add those predictions to a dataframe\n",
    "preds_df = pd.DataFrame(preds)"
   ]
  },
  {
   "cell_type": "code",
   "execution_count": 27,
   "metadata": {},
   "outputs": [],
   "source": [
    "#drop the index of the new dataframe\n",
    "preds_df = preds_df.reset_index(drop=True)"
   ]
  },
  {
   "cell_type": "code",
   "execution_count": 28,
   "metadata": {},
   "outputs": [],
   "source": [
    "preds_df = preds_df.rename(columns={1: 'model_score'})"
   ]
  },
  {
   "cell_type": "code",
   "execution_count": 29,
   "metadata": {},
   "outputs": [
    {
     "data": {
      "text/html": [
       "<div>\n",
       "<style scoped>\n",
       "    .dataframe tbody tr th:only-of-type {\n",
       "        vertical-align: middle;\n",
       "    }\n",
       "\n",
       "    .dataframe tbody tr th {\n",
       "        vertical-align: top;\n",
       "    }\n",
       "\n",
       "    .dataframe thead th {\n",
       "        text-align: right;\n",
       "    }\n",
       "</style>\n",
       "<table border=\"1\" class=\"dataframe\">\n",
       "  <thead>\n",
       "    <tr style=\"text-align: right;\">\n",
       "      <th></th>\n",
       "      <th>0</th>\n",
       "      <th>model_score</th>\n",
       "    </tr>\n",
       "  </thead>\n",
       "  <tbody>\n",
       "    <tr>\n",
       "      <th>0</th>\n",
       "      <td>0.967431</td>\n",
       "      <td>0.032569</td>\n",
       "    </tr>\n",
       "    <tr>\n",
       "      <th>1</th>\n",
       "      <td>0.965853</td>\n",
       "      <td>0.034147</td>\n",
       "    </tr>\n",
       "    <tr>\n",
       "      <th>2</th>\n",
       "      <td>0.964718</td>\n",
       "      <td>0.035282</td>\n",
       "    </tr>\n",
       "    <tr>\n",
       "      <th>3</th>\n",
       "      <td>0.964718</td>\n",
       "      <td>0.035282</td>\n",
       "    </tr>\n",
       "    <tr>\n",
       "      <th>4</th>\n",
       "      <td>0.964850</td>\n",
       "      <td>0.035150</td>\n",
       "    </tr>\n",
       "  </tbody>\n",
       "</table>\n",
       "</div>"
      ],
      "text/plain": [
       "          0  model_score\n",
       "0  0.967431     0.032569\n",
       "1  0.965853     0.034147\n",
       "2  0.964718     0.035282\n",
       "3  0.964718     0.035282\n",
       "4  0.964850     0.035150"
      ]
     },
     "execution_count": 29,
     "metadata": {},
     "output_type": "execute_result"
    }
   ],
   "source": [
    "preds_df.head()"
   ]
  },
  {
   "cell_type": "code",
   "execution_count": 30,
   "metadata": {},
   "outputs": [],
   "source": [
    "#read in all the voter data so that the scores are attached to vanid\n",
    "cleaned_2019 = pd.read_csv('cleaned_voter_data.csv')"
   ]
  },
  {
   "cell_type": "code",
   "execution_count": 31,
   "metadata": {},
   "outputs": [],
   "source": [
    "#resetting index\n",
    "cleaned_2019 = cleaned_2019.reset_index(drop=True)"
   ]
  },
  {
   "cell_type": "code",
   "execution_count": 32,
   "metadata": {},
   "outputs": [],
   "source": [
    "#combining model predictions with voter file data\n",
    "full_data = pd.concat([preds_df, cleaned_2019 ], axis=1)"
   ]
  },
  {
   "cell_type": "code",
   "execution_count": 33,
   "metadata": {},
   "outputs": [
    {
     "data": {
      "text/html": [
       "<div>\n",
       "<style scoped>\n",
       "    .dataframe tbody tr th:only-of-type {\n",
       "        vertical-align: middle;\n",
       "    }\n",
       "\n",
       "    .dataframe tbody tr th {\n",
       "        vertical-align: top;\n",
       "    }\n",
       "\n",
       "    .dataframe thead th {\n",
       "        text-align: right;\n",
       "    }\n",
       "</style>\n",
       "<table border=\"1\" class=\"dataframe\">\n",
       "  <thead>\n",
       "    <tr style=\"text-align: right;\">\n",
       "      <th></th>\n",
       "      <th>0</th>\n",
       "      <th>model_score</th>\n",
       "      <th>Voter File VANID</th>\n",
       "      <th>Age</th>\n",
       "      <th>DemPartyCaucus20</th>\n",
       "      <th>DemPartyCaucus18</th>\n",
       "      <th>DemPartyCaucus16</th>\n",
       "      <th>General20</th>\n",
       "      <th>General18</th>\n",
       "      <th>General16</th>\n",
       "      <th>NovemberMunicipal21</th>\n",
       "      <th>SpringMuniRunoff19</th>\n",
       "      <th>SpringMuniRunoff15</th>\n",
       "      <th>SpringMunicipal19</th>\n",
       "      <th>Sex_F</th>\n",
       "      <th>Sex_M</th>\n",
       "      <th>Party_D</th>\n",
       "      <th>Party_L</th>\n",
       "      <th>Party_R</th>\n",
       "      <th>Party_U</th>\n",
       "    </tr>\n",
       "  </thead>\n",
       "  <tbody>\n",
       "    <tr>\n",
       "      <th>0</th>\n",
       "      <td>0.967431</td>\n",
       "      <td>0.032569</td>\n",
       "      <td>12128431</td>\n",
       "      <td>20</td>\n",
       "      <td>0.0</td>\n",
       "      <td>0.0</td>\n",
       "      <td>0.0</td>\n",
       "      <td>1.0</td>\n",
       "      <td>0.0</td>\n",
       "      <td>0.0</td>\n",
       "      <td>0.0</td>\n",
       "      <td>0.0</td>\n",
       "      <td>0.0</td>\n",
       "      <td>0.0</td>\n",
       "      <td>0</td>\n",
       "      <td>1</td>\n",
       "      <td>0</td>\n",
       "      <td>0</td>\n",
       "      <td>0</td>\n",
       "      <td>1</td>\n",
       "    </tr>\n",
       "    <tr>\n",
       "      <th>1</th>\n",
       "      <td>0.965853</td>\n",
       "      <td>0.034147</td>\n",
       "      <td>12131589</td>\n",
       "      <td>21</td>\n",
       "      <td>0.0</td>\n",
       "      <td>0.0</td>\n",
       "      <td>0.0</td>\n",
       "      <td>1.0</td>\n",
       "      <td>0.0</td>\n",
       "      <td>0.0</td>\n",
       "      <td>0.0</td>\n",
       "      <td>0.0</td>\n",
       "      <td>0.0</td>\n",
       "      <td>0.0</td>\n",
       "      <td>0</td>\n",
       "      <td>1</td>\n",
       "      <td>1</td>\n",
       "      <td>0</td>\n",
       "      <td>0</td>\n",
       "      <td>0</td>\n",
       "    </tr>\n",
       "    <tr>\n",
       "      <th>2</th>\n",
       "      <td>0.964718</td>\n",
       "      <td>0.035282</td>\n",
       "      <td>12133815</td>\n",
       "      <td>36</td>\n",
       "      <td>0.0</td>\n",
       "      <td>0.0</td>\n",
       "      <td>0.0</td>\n",
       "      <td>1.0</td>\n",
       "      <td>0.0</td>\n",
       "      <td>0.0</td>\n",
       "      <td>0.0</td>\n",
       "      <td>0.0</td>\n",
       "      <td>0.0</td>\n",
       "      <td>0.0</td>\n",
       "      <td>1</td>\n",
       "      <td>0</td>\n",
       "      <td>1</td>\n",
       "      <td>0</td>\n",
       "      <td>0</td>\n",
       "      <td>0</td>\n",
       "    </tr>\n",
       "    <tr>\n",
       "      <th>3</th>\n",
       "      <td>0.964718</td>\n",
       "      <td>0.035282</td>\n",
       "      <td>12135026</td>\n",
       "      <td>36</td>\n",
       "      <td>0.0</td>\n",
       "      <td>0.0</td>\n",
       "      <td>0.0</td>\n",
       "      <td>1.0</td>\n",
       "      <td>0.0</td>\n",
       "      <td>0.0</td>\n",
       "      <td>0.0</td>\n",
       "      <td>0.0</td>\n",
       "      <td>0.0</td>\n",
       "      <td>0.0</td>\n",
       "      <td>1</td>\n",
       "      <td>0</td>\n",
       "      <td>1</td>\n",
       "      <td>0</td>\n",
       "      <td>0</td>\n",
       "      <td>0</td>\n",
       "    </tr>\n",
       "    <tr>\n",
       "      <th>4</th>\n",
       "      <td>0.964850</td>\n",
       "      <td>0.035150</td>\n",
       "      <td>12136519</td>\n",
       "      <td>35</td>\n",
       "      <td>0.0</td>\n",
       "      <td>0.0</td>\n",
       "      <td>0.0</td>\n",
       "      <td>1.0</td>\n",
       "      <td>0.0</td>\n",
       "      <td>0.0</td>\n",
       "      <td>0.0</td>\n",
       "      <td>0.0</td>\n",
       "      <td>0.0</td>\n",
       "      <td>0.0</td>\n",
       "      <td>1</td>\n",
       "      <td>0</td>\n",
       "      <td>1</td>\n",
       "      <td>0</td>\n",
       "      <td>0</td>\n",
       "      <td>0</td>\n",
       "    </tr>\n",
       "  </tbody>\n",
       "</table>\n",
       "</div>"
      ],
      "text/plain": [
       "          0  model_score  Voter File VANID  Age  DemPartyCaucus20  \\\n",
       "0  0.967431     0.032569          12128431   20               0.0   \n",
       "1  0.965853     0.034147          12131589   21               0.0   \n",
       "2  0.964718     0.035282          12133815   36               0.0   \n",
       "3  0.964718     0.035282          12135026   36               0.0   \n",
       "4  0.964850     0.035150          12136519   35               0.0   \n",
       "\n",
       "   DemPartyCaucus18  DemPartyCaucus16  General20  General18  General16  \\\n",
       "0               0.0               0.0        1.0        0.0        0.0   \n",
       "1               0.0               0.0        1.0        0.0        0.0   \n",
       "2               0.0               0.0        1.0        0.0        0.0   \n",
       "3               0.0               0.0        1.0        0.0        0.0   \n",
       "4               0.0               0.0        1.0        0.0        0.0   \n",
       "\n",
       "   NovemberMunicipal21  SpringMuniRunoff19  SpringMuniRunoff15  \\\n",
       "0                  0.0                 0.0                 0.0   \n",
       "1                  0.0                 0.0                 0.0   \n",
       "2                  0.0                 0.0                 0.0   \n",
       "3                  0.0                 0.0                 0.0   \n",
       "4                  0.0                 0.0                 0.0   \n",
       "\n",
       "   SpringMunicipal19  Sex_F  Sex_M  Party_D  Party_L  Party_R  Party_U  \n",
       "0                0.0      0      1        0        0        0        1  \n",
       "1                0.0      0      1        1        0        0        0  \n",
       "2                0.0      1      0        1        0        0        0  \n",
       "3                0.0      1      0        1        0        0        0  \n",
       "4                0.0      1      0        1        0        0        0  "
      ]
     },
     "execution_count": 33,
     "metadata": {},
     "output_type": "execute_result"
    }
   ],
   "source": [
    "#at this point I have the model predictions combined with the voterdata from before the 2023 election\n",
    "\n",
    "full_data.head()"
   ]
  },
  {
   "cell_type": "code",
   "execution_count": 34,
   "metadata": {},
   "outputs": [
    {
     "name": "stdout",
     "output_type": "stream",
     "text": [
      "<class 'pandas.core.frame.DataFrame'>\n",
      "RangeIndex: 414056 entries, 0 to 414055\n",
      "Data columns (total 20 columns):\n",
      " #   Column               Non-Null Count   Dtype  \n",
      "---  ------               --------------   -----  \n",
      " 0   0                    414056 non-null  float64\n",
      " 1   model_score          414056 non-null  float64\n",
      " 2   Voter File VANID     414056 non-null  int64  \n",
      " 3   Age                  414056 non-null  int64  \n",
      " 4   DemPartyCaucus20     414056 non-null  float64\n",
      " 5   DemPartyCaucus18     414056 non-null  float64\n",
      " 6   DemPartyCaucus16     414056 non-null  float64\n",
      " 7   General20            414056 non-null  float64\n",
      " 8   General18            414056 non-null  float64\n",
      " 9   General16            414056 non-null  float64\n",
      " 10  NovemberMunicipal21  414056 non-null  float64\n",
      " 11  SpringMuniRunoff19   414056 non-null  float64\n",
      " 12  SpringMuniRunoff15   414056 non-null  float64\n",
      " 13  SpringMunicipal19    414056 non-null  float64\n",
      " 14  Sex_F                414056 non-null  int64  \n",
      " 15  Sex_M                414056 non-null  int64  \n",
      " 16  Party_D              414056 non-null  int64  \n",
      " 17  Party_L              414056 non-null  int64  \n",
      " 18  Party_R              414056 non-null  int64  \n",
      " 19  Party_U              414056 non-null  int64  \n",
      "dtypes: float64(12), int64(8)\n",
      "memory usage: 63.2 MB\n"
     ]
    }
   ],
   "source": [
    "full_data.info()"
   ]
  },
  {
   "cell_type": "code",
   "execution_count": 35,
   "metadata": {},
   "outputs": [
    {
     "name": "stderr",
     "output_type": "stream",
     "text": [
      "C:\\Users\\Jonbi\\AppData\\Local\\Temp\\ipykernel_19120\\1508744918.py:5: DtypeWarning: Columns (35,36,37,38,39,40,47,48,49,50,51,52,53,54,55,56,57,58,64,65,66,67,68,83,84,85,86,87,88,89,90,91,92,93,94,95,96,97,98,99,100,103,104,106,107,108,111,115,116,118,119,120,121,122,127,129,130,131,132) have mixed types. Specify dtype option on import or set low_memory=False.\n",
      "  df_new_denver_data  = pd.read_csv(file)\n",
      "C:\\Users\\Jonbi\\AppData\\Local\\Temp\\ipykernel_19120\\1508744918.py:5: DtypeWarning: Columns (36,37,39,40,90,92,94,96,99,103,107,108,109,110,112,114,116,124,129) have mixed types. Specify dtype option on import or set low_memory=False.\n",
      "  df_new_denver_data  = pd.read_csv(file)\n",
      "C:\\Users\\Jonbi\\AppData\\Local\\Temp\\ipykernel_19120\\1508744918.py:5: DtypeWarning: Columns (32,35,36,37,38,39,40,46,47,48,49,50,51,52,53,54,55,56,57,58,63,64,65,66,67,68,79,80,81,82,83,84,85,86,87,88,89,90,91,92,93,94,95,96,97,98,99,103,104,106,107,108,110,111,112,114,115,116,119,120,121,122,127,129,130,131,132) have mixed types. Specify dtype option on import or set low_memory=False.\n",
      "  df_new_denver_data  = pd.read_csv(file)\n",
      "C:\\Users\\Jonbi\\AppData\\Local\\Temp\\ipykernel_19120\\1508744918.py:5: DtypeWarning: Columns (94,99,103,110,112,122,128) have mixed types. Specify dtype option on import or set low_memory=False.\n",
      "  df_new_denver_data  = pd.read_csv(file)\n",
      "C:\\Users\\Jonbi\\AppData\\Local\\Temp\\ipykernel_19120\\1508744918.py:5: DtypeWarning: Columns (35,37,38,39,40,52,54,56,58,66,68,87,88,89,90,91,92,93,94,95,96,97,99,102,103,104,106,107,108,110,111,112,114,115,116,120,122,124,129,130,131,132) have mixed types. Specify dtype option on import or set low_memory=False.\n",
      "  df_new_denver_data  = pd.read_csv(file)\n",
      "C:\\Users\\Jonbi\\AppData\\Local\\Temp\\ipykernel_19120\\1508744918.py:5: DtypeWarning: Columns (36,37,38,39,40,49,50,51,52,53,54,55,56,57,58,87,88,89,90,91,92,93,94,95,96,97,99,102,103,104,107,108,111,115,116,120) have mixed types. Specify dtype option on import or set low_memory=False.\n",
      "  df_new_denver_data  = pd.read_csv(file)\n",
      "C:\\Users\\Jonbi\\AppData\\Local\\Temp\\ipykernel_19120\\1508744918.py:5: DtypeWarning: Columns (35,36,37,38,39,40,46,47,48,49,50,51,52,53,54,55,56,57,58,63,64,65,66,67,68,79,80,81,82,83,84,85,86,87,88,89,90,91,92,93,94,95,96,97,98,99,100,102,103,104,106,107,108,111,115,116,118,119,120,121,124,127,128,129,130,131,132) have mixed types. Specify dtype option on import or set low_memory=False.\n",
      "  df_new_denver_data  = pd.read_csv(file)\n",
      "C:\\Users\\Jonbi\\AppData\\Local\\Temp\\ipykernel_19120\\1508744918.py:5: DtypeWarning: Columns (36,90,92,94,96,97,99,103,104,107,108,109,112,114,116,120,121,129,132) have mixed types. Specify dtype option on import or set low_memory=False.\n",
      "  df_new_denver_data  = pd.read_csv(file)\n",
      "C:\\Users\\Jonbi\\AppData\\Local\\Temp\\ipykernel_19120\\1508744918.py:5: DtypeWarning: Columns (35,36,37,38,39,40,47,48,49,50,51,52,53,54,55,56,57,58,65,66,67,68,83,84,85,86,87,88,89,90,91,92,93,94,95,96,97,99,102,103,104,106,107,108,110,111,112,115,116,118,120,121,127,128,129,130,131,132) have mixed types. Specify dtype option on import or set low_memory=False.\n",
      "  df_new_denver_data  = pd.read_csv(file)\n"
     ]
    }
   ],
   "source": [
    "#combining new denver data from after 2023 election into one dataframe\n",
    "filenames_1 = ['d1.csv', 'd2.csv', 'd3.csv', 'd4.csv', 'd5.csv', 'd6.csv', 'd7.csv', 'd8.csv', 'd9.csv']\n",
    "dataframes_1 = []\n",
    "for file in filenames_1:\n",
    "    df_new_denver_data  = pd.read_csv(file)\n",
    "    dataframes_1.append(df_new_denver_data)\n",
    "\n",
    "df_new_denver_data = pd.concat(dataframes_1)"
   ]
  },
  {
   "cell_type": "code",
   "execution_count": 36,
   "metadata": {},
   "outputs": [],
   "source": [
    "#cleaning columns in new denver data\n",
    "new_columns_clean = ['DemPartyCaucus20', 'DemPartyCaucus18', 'DemPartyCaucus16', 'DemPartyCaucus14', 'DemPartyCaucus12', 'DemPartyCaucus10', 'DemPartyCaucus08', 'DemPartyCaucus06', 'DemPartyCaucus04', 'General22', 'General20', 'General18', 'General16', 'General14', 'General12', 'General10', 'General08', 'General06', 'General04', 'General02', 'General01', 'General00', 'General99', 'General98', 'General97', 'General96', 'General95', 'NovemberMunicipal21', 'NovemberMunicipal19', 'NovemberMunicipal17', 'NovemberMunicipal15', 'NovemberMunicipal13', 'NovemberMunicipal11', 'NovemberMunicipal09', 'NovemberMunicipal07', 'NovemberMunicipal05', 'NovemberMunicipal03', 'PresidentialPrimary20', 'PresidentialPrimary20Party', 'Primary22', 'Primary22Party', 'Primary20', 'Primary20Party', 'Primary18', 'Primary18Party', 'Primary16', 'Primary16Party', 'Primary14', 'Primary14Party', 'Primary12', 'Primary12Party', 'Primary10', 'Primary10Party', 'Primary08', 'Primary08Party', 'Primary06', 'Primary04', 'Primary02', 'Primary01', 'Primary00', 'Primary99', 'Primary98', 'Primary97', 'Primary96', 'Primary95', 'Recall13', 'Runoff11', 'Special21', 'Special20', 'Special19', 'Special18', 'Special14', 'Special10', 'Special09', 'Special07', 'Special06', 'Special04', 'Special02', 'Special01', 'Special00', 'Special99', 'Special98', 'Special97', 'Special96', 'Special95', 'SpringMuniRunoff19', 'SpringMuniRunoff15', 'SpringMuniRunoff11', 'SpringMuniRunoff07', 'SpringMuniRunoff03', 'SpringMunicipal21', 'SpringMunicipal19', 'SpringMunicipal17', 'SpringMunicipal15', 'SpringMunicipal13', 'SpringMunicipal11', 'SpringMunicipal10', 'SpringMunicipal09', 'SpringMunicipal07', 'SpringMunicipal05', 'SpringMunicipal03', 'Primary08Party', 'Primary10Party', 'Primary12Party', 'Primary14Party', 'Primary18Party', 'Primary22Party']"
   ]
  },
  {
   "cell_type": "code",
   "execution_count": 37,
   "metadata": {},
   "outputs": [],
   "source": [
    "#editing column so that 0 = no vote and 1 = vote\n",
    "for column in new_columns_clean:\n",
    "    df_new_denver_data[column] = df_new_denver_data[column].replace('A', 1)\n",
    "    df_new_denver_data[column] = df_new_denver_data[column].replace('P', 1)\n",
    "    df_new_denver_data[column] = df_new_denver_data[column].replace('E', 1)\n",
    "    df_new_denver_data[column] = df_new_denver_data[column].replace('Y', 1)\n",
    "    df_new_denver_data[column] = df_new_denver_data[column].replace('M', 1)\n",
    "    df_new_denver_data[column] = df_new_denver_data[column].replace('Q', 1)\n",
    "    df_new_denver_data[column] = df_new_denver_data[column].replace('V', 1)\n",
    "    df_new_denver_data[column] = df_new_denver_data[column].replace('Y', 1)\n",
    "    df_new_denver_data[column] = df_new_denver_data[column].replace('D', 1)\n",
    "    df_new_denver_data[column] = df_new_denver_data[column].replace('R', 1)\n",
    "    df_new_denver_data[column] = df_new_denver_data[column].replace('U', 1)\n",
    "    df_new_denver_data[column].fillna(0, inplace=True)\n"
   ]
  },
  {
   "cell_type": "code",
   "execution_count": 38,
   "metadata": {},
   "outputs": [
    {
     "name": "stdout",
     "output_type": "stream",
     "text": [
      "<class 'pandas.core.frame.DataFrame'>\n",
      "Int64Index: 147704 entries, 0 to 17842\n",
      "Columns: 133 entries, Voter File VANID to SpringMunicipal03\n",
      "dtypes: float64(118), int64(3), object(12)\n",
      "memory usage: 151.0+ MB\n"
     ]
    }
   ],
   "source": [
    "df_new_denver_data.info()"
   ]
  },
  {
   "cell_type": "code",
   "execution_count": 39,
   "metadata": {},
   "outputs": [],
   "source": [
    "# First, create a temporary DataFrame from DataFrame_2 with only the 'ID' column\n",
    "temp_df = df_new_denver_data[['Voter File VANID']].copy()"
   ]
  },
  {
   "cell_type": "code",
   "execution_count": 40,
   "metadata": {},
   "outputs": [],
   "source": [
    "# Add a new column called 'Exists' and set its value to 1\n",
    "temp_df['Exists'] = 1"
   ]
  },
  {
   "cell_type": "code",
   "execution_count": 41,
   "metadata": {},
   "outputs": [],
   "source": [
    "# Merge DataFrame_1 with temp_df on the 'ID' column using a left join\n",
    "merged_df = full_data.merge(temp_df, on='Voter File VANID', how='left')"
   ]
  },
  {
   "cell_type": "code",
   "execution_count": 42,
   "metadata": {},
   "outputs": [],
   "source": [
    "merged_df = merged_df.rename(columns={'Exists': 'SpringMunicipal23'})"
   ]
  },
  {
   "cell_type": "code",
   "execution_count": 43,
   "metadata": {},
   "outputs": [
    {
     "name": "stdout",
     "output_type": "stream",
     "text": [
      "126030\n"
     ]
    }
   ],
   "source": [
    "votes = merged_df.query('SpringMunicipal23 == 1').shape[0]\n",
    "print(votes)"
   ]
  },
  {
   "cell_type": "code",
   "execution_count": 44,
   "metadata": {},
   "outputs": [],
   "source": [
    "#new merged_df contains a new \"exists\" column that contains a 1 if they voted in the spring election and a 0 if they didnt't vote\n",
    "merged_df['SpringMunicipal23'].fillna(0, inplace=True)"
   ]
  },
  {
   "cell_type": "code",
   "execution_count": 45,
   "metadata": {},
   "outputs": [
    {
     "data": {
      "text/html": [
       "<div>\n",
       "<style scoped>\n",
       "    .dataframe tbody tr th:only-of-type {\n",
       "        vertical-align: middle;\n",
       "    }\n",
       "\n",
       "    .dataframe tbody tr th {\n",
       "        vertical-align: top;\n",
       "    }\n",
       "\n",
       "    .dataframe thead th {\n",
       "        text-align: right;\n",
       "    }\n",
       "</style>\n",
       "<table border=\"1\" class=\"dataframe\">\n",
       "  <thead>\n",
       "    <tr style=\"text-align: right;\">\n",
       "      <th></th>\n",
       "      <th>0</th>\n",
       "      <th>model_score</th>\n",
       "      <th>Voter File VANID</th>\n",
       "      <th>Age</th>\n",
       "      <th>DemPartyCaucus20</th>\n",
       "      <th>DemPartyCaucus18</th>\n",
       "      <th>DemPartyCaucus16</th>\n",
       "      <th>General20</th>\n",
       "      <th>General18</th>\n",
       "      <th>General16</th>\n",
       "      <th>...</th>\n",
       "      <th>SpringMuniRunoff19</th>\n",
       "      <th>SpringMuniRunoff15</th>\n",
       "      <th>SpringMunicipal19</th>\n",
       "      <th>Sex_F</th>\n",
       "      <th>Sex_M</th>\n",
       "      <th>Party_D</th>\n",
       "      <th>Party_L</th>\n",
       "      <th>Party_R</th>\n",
       "      <th>Party_U</th>\n",
       "      <th>SpringMunicipal23</th>\n",
       "    </tr>\n",
       "  </thead>\n",
       "  <tbody>\n",
       "    <tr>\n",
       "      <th>0</th>\n",
       "      <td>0.967431</td>\n",
       "      <td>0.032569</td>\n",
       "      <td>12128431</td>\n",
       "      <td>20</td>\n",
       "      <td>0.0</td>\n",
       "      <td>0.0</td>\n",
       "      <td>0.0</td>\n",
       "      <td>1.0</td>\n",
       "      <td>0.0</td>\n",
       "      <td>0.0</td>\n",
       "      <td>...</td>\n",
       "      <td>0.0</td>\n",
       "      <td>0.0</td>\n",
       "      <td>0.0</td>\n",
       "      <td>0</td>\n",
       "      <td>1</td>\n",
       "      <td>0</td>\n",
       "      <td>0</td>\n",
       "      <td>0</td>\n",
       "      <td>1</td>\n",
       "      <td>1.0</td>\n",
       "    </tr>\n",
       "    <tr>\n",
       "      <th>1</th>\n",
       "      <td>0.965853</td>\n",
       "      <td>0.034147</td>\n",
       "      <td>12131589</td>\n",
       "      <td>21</td>\n",
       "      <td>0.0</td>\n",
       "      <td>0.0</td>\n",
       "      <td>0.0</td>\n",
       "      <td>1.0</td>\n",
       "      <td>0.0</td>\n",
       "      <td>0.0</td>\n",
       "      <td>...</td>\n",
       "      <td>0.0</td>\n",
       "      <td>0.0</td>\n",
       "      <td>0.0</td>\n",
       "      <td>0</td>\n",
       "      <td>1</td>\n",
       "      <td>1</td>\n",
       "      <td>0</td>\n",
       "      <td>0</td>\n",
       "      <td>0</td>\n",
       "      <td>0.0</td>\n",
       "    </tr>\n",
       "    <tr>\n",
       "      <th>2</th>\n",
       "      <td>0.964718</td>\n",
       "      <td>0.035282</td>\n",
       "      <td>12133815</td>\n",
       "      <td>36</td>\n",
       "      <td>0.0</td>\n",
       "      <td>0.0</td>\n",
       "      <td>0.0</td>\n",
       "      <td>1.0</td>\n",
       "      <td>0.0</td>\n",
       "      <td>0.0</td>\n",
       "      <td>...</td>\n",
       "      <td>0.0</td>\n",
       "      <td>0.0</td>\n",
       "      <td>0.0</td>\n",
       "      <td>1</td>\n",
       "      <td>0</td>\n",
       "      <td>1</td>\n",
       "      <td>0</td>\n",
       "      <td>0</td>\n",
       "      <td>0</td>\n",
       "      <td>0.0</td>\n",
       "    </tr>\n",
       "    <tr>\n",
       "      <th>3</th>\n",
       "      <td>0.964718</td>\n",
       "      <td>0.035282</td>\n",
       "      <td>12135026</td>\n",
       "      <td>36</td>\n",
       "      <td>0.0</td>\n",
       "      <td>0.0</td>\n",
       "      <td>0.0</td>\n",
       "      <td>1.0</td>\n",
       "      <td>0.0</td>\n",
       "      <td>0.0</td>\n",
       "      <td>...</td>\n",
       "      <td>0.0</td>\n",
       "      <td>0.0</td>\n",
       "      <td>0.0</td>\n",
       "      <td>1</td>\n",
       "      <td>0</td>\n",
       "      <td>1</td>\n",
       "      <td>0</td>\n",
       "      <td>0</td>\n",
       "      <td>0</td>\n",
       "      <td>0.0</td>\n",
       "    </tr>\n",
       "    <tr>\n",
       "      <th>4</th>\n",
       "      <td>0.964850</td>\n",
       "      <td>0.035150</td>\n",
       "      <td>12136519</td>\n",
       "      <td>35</td>\n",
       "      <td>0.0</td>\n",
       "      <td>0.0</td>\n",
       "      <td>0.0</td>\n",
       "      <td>1.0</td>\n",
       "      <td>0.0</td>\n",
       "      <td>0.0</td>\n",
       "      <td>...</td>\n",
       "      <td>0.0</td>\n",
       "      <td>0.0</td>\n",
       "      <td>0.0</td>\n",
       "      <td>1</td>\n",
       "      <td>0</td>\n",
       "      <td>1</td>\n",
       "      <td>0</td>\n",
       "      <td>0</td>\n",
       "      <td>0</td>\n",
       "      <td>0.0</td>\n",
       "    </tr>\n",
       "  </tbody>\n",
       "</table>\n",
       "<p>5 rows × 21 columns</p>\n",
       "</div>"
      ],
      "text/plain": [
       "          0  model_score  Voter File VANID  Age  DemPartyCaucus20  \\\n",
       "0  0.967431     0.032569          12128431   20               0.0   \n",
       "1  0.965853     0.034147          12131589   21               0.0   \n",
       "2  0.964718     0.035282          12133815   36               0.0   \n",
       "3  0.964718     0.035282          12135026   36               0.0   \n",
       "4  0.964850     0.035150          12136519   35               0.0   \n",
       "\n",
       "   DemPartyCaucus18  DemPartyCaucus16  General20  General18  General16  ...  \\\n",
       "0               0.0               0.0        1.0        0.0        0.0  ...   \n",
       "1               0.0               0.0        1.0        0.0        0.0  ...   \n",
       "2               0.0               0.0        1.0        0.0        0.0  ...   \n",
       "3               0.0               0.0        1.0        0.0        0.0  ...   \n",
       "4               0.0               0.0        1.0        0.0        0.0  ...   \n",
       "\n",
       "   SpringMuniRunoff19  SpringMuniRunoff15  SpringMunicipal19  Sex_F  Sex_M  \\\n",
       "0                 0.0                 0.0                0.0      0      1   \n",
       "1                 0.0                 0.0                0.0      0      1   \n",
       "2                 0.0                 0.0                0.0      1      0   \n",
       "3                 0.0                 0.0                0.0      1      0   \n",
       "4                 0.0                 0.0                0.0      1      0   \n",
       "\n",
       "   Party_D  Party_L  Party_R  Party_U  SpringMunicipal23  \n",
       "0        0        0        0        1                1.0  \n",
       "1        1        0        0        0                0.0  \n",
       "2        1        0        0        0                0.0  \n",
       "3        1        0        0        0                0.0  \n",
       "4        1        0        0        0                0.0  \n",
       "\n",
       "[5 rows x 21 columns]"
      ]
     },
     "execution_count": 45,
     "metadata": {},
     "output_type": "execute_result"
    }
   ],
   "source": [
    "#this should be the final dataframe needed to analyze the model's performance\n",
    "merged_df.head()"
   ]
  },
  {
   "cell_type": "code",
   "execution_count": 46,
   "metadata": {},
   "outputs": [],
   "source": [
    "#changing percenatge to number score\n",
    "merged_df['model_score'] = merged_df['model_score'].multiply(100)"
   ]
  },
  {
   "cell_type": "code",
   "execution_count": 47,
   "metadata": {},
   "outputs": [
    {
     "name": "stdout",
     "output_type": "stream",
     "text": [
      "<class 'pandas.core.frame.DataFrame'>\n",
      "Int64Index: 414056 entries, 0 to 414055\n",
      "Data columns (total 21 columns):\n",
      " #   Column               Non-Null Count   Dtype  \n",
      "---  ------               --------------   -----  \n",
      " 0   0                    414056 non-null  float64\n",
      " 1   model_score          414056 non-null  float64\n",
      " 2   Voter File VANID     414056 non-null  int64  \n",
      " 3   Age                  414056 non-null  int64  \n",
      " 4   DemPartyCaucus20     414056 non-null  float64\n",
      " 5   DemPartyCaucus18     414056 non-null  float64\n",
      " 6   DemPartyCaucus16     414056 non-null  float64\n",
      " 7   General20            414056 non-null  float64\n",
      " 8   General18            414056 non-null  float64\n",
      " 9   General16            414056 non-null  float64\n",
      " 10  NovemberMunicipal21  414056 non-null  float64\n",
      " 11  SpringMuniRunoff19   414056 non-null  float64\n",
      " 12  SpringMuniRunoff15   414056 non-null  float64\n",
      " 13  SpringMunicipal19    414056 non-null  float64\n",
      " 14  Sex_F                414056 non-null  int64  \n",
      " 15  Sex_M                414056 non-null  int64  \n",
      " 16  Party_D              414056 non-null  int64  \n",
      " 17  Party_L              414056 non-null  int64  \n",
      " 18  Party_R              414056 non-null  int64  \n",
      " 19  Party_U              414056 non-null  int64  \n",
      " 20  SpringMunicipal23    414056 non-null  float64\n",
      "dtypes: float64(13), int64(8)\n",
      "memory usage: 69.5 MB\n"
     ]
    }
   ],
   "source": [
    "merged_df.info()"
   ]
  },
  {
   "cell_type": "code",
   "execution_count": 48,
   "metadata": {},
   "outputs": [],
   "source": [
    "#function outputs classification scores based on actual model performance based on voting results\n",
    "\n",
    "def classification_info(dataframe, column_name, threshold):\n",
    "    voters_targeted = dataframe.query('`' + column_name + '` >= @threshold').shape[0]\n",
    "    true_positives = dataframe.query('SpringMunicipal23 == 1 & `' + column_name + '` >= @threshold').shape[0]\n",
    "    true_negatives = merged_df.query('SpringMunicipal23 == 0 & `' + column_name + '` < @threshold').shape[0]\n",
    "    false_positives = merged_df.query('SpringMunicipal23 == 0 & `' + column_name + '` >= @threshold').shape[0]\n",
    "    false_negatives = merged_df.query('SpringMunicipal23 == 1 & `' + column_name + '` < @threshold').shape[0]\n",
    "    accuracy = ((true_positives + true_negatives)/414056)\n",
    "    precision = true_positives / (true_positives + false_positives)\n",
    "    recall = true_positives / (true_positives + false_negatives)\n",
    "    f1_score = 2 * (precision * recall) / (precision + recall)\n",
    "    results_df = pd.DataFrame({'threshold_value': [threshold],\n",
    "                               'voters_targeted': [voters_targeted],\n",
    "                               'true_positives': [true_positives], \n",
    "                               'true_negatives': [true_negatives], \n",
    "                               'false_positives': [false_positives], \n",
    "                               'false_negatives': [false_negatives], \n",
    "                               'accuracy': [accuracy], \n",
    "                               'precision': [precision], \n",
    "                               'recall': [recall], \n",
    "                               'f1_score': [f1_score]})\n",
    "    return results_df"
   ]
  },
  {
   "cell_type": "code",
   "execution_count": 52,
   "metadata": {},
   "outputs": [],
   "source": [
    "#creatring different threshold values to examine model performancer at various levels\n",
    "threshold_values = [20, 25, 30, 35, 40, 45, 50, 55, 60, 65, 70, 75, 80, 85, 90, 95]"
   ]
  },
  {
   "cell_type": "code",
   "execution_count": 53,
   "metadata": {},
   "outputs": [],
   "source": [
    "#looping through each threshold value and calculating classification scores for each one\n",
    "loop_results_df = pd.DataFrame()\n",
    "for threshold in threshold_values:\n",
    "    temp_df = classification_info(merged_df, 'model_score', threshold)\n",
    "    loop_results_df = pd.concat([loop_results_df, temp_df], axis=0)"
   ]
  },
  {
   "cell_type": "code",
   "execution_count": 54,
   "metadata": {},
   "outputs": [
    {
     "data": {
      "text/html": [
       "<div>\n",
       "<style scoped>\n",
       "    .dataframe tbody tr th:only-of-type {\n",
       "        vertical-align: middle;\n",
       "    }\n",
       "\n",
       "    .dataframe tbody tr th {\n",
       "        vertical-align: top;\n",
       "    }\n",
       "\n",
       "    .dataframe thead th {\n",
       "        text-align: right;\n",
       "    }\n",
       "</style>\n",
       "<table border=\"1\" class=\"dataframe\">\n",
       "  <thead>\n",
       "    <tr style=\"text-align: right;\">\n",
       "      <th></th>\n",
       "      <th>threshold_value</th>\n",
       "      <th>voters_targeted</th>\n",
       "      <th>true_positives</th>\n",
       "      <th>true_negatives</th>\n",
       "      <th>false_positives</th>\n",
       "      <th>false_negatives</th>\n",
       "      <th>accuracy</th>\n",
       "      <th>precision</th>\n",
       "      <th>recall</th>\n",
       "      <th>f1_score</th>\n",
       "    </tr>\n",
       "  </thead>\n",
       "  <tbody>\n",
       "    <tr>\n",
       "      <th>0</th>\n",
       "      <td>20</td>\n",
       "      <td>164845</td>\n",
       "      <td>97785</td>\n",
       "      <td>220966</td>\n",
       "      <td>67060</td>\n",
       "      <td>28245</td>\n",
       "      <td>0.769826</td>\n",
       "      <td>0.593194</td>\n",
       "      <td>0.775887</td>\n",
       "      <td>0.672351</td>\n",
       "    </tr>\n",
       "    <tr>\n",
       "      <th>0</th>\n",
       "      <td>25</td>\n",
       "      <td>152048</td>\n",
       "      <td>95160</td>\n",
       "      <td>231138</td>\n",
       "      <td>56888</td>\n",
       "      <td>30870</td>\n",
       "      <td>0.788053</td>\n",
       "      <td>0.625855</td>\n",
       "      <td>0.755058</td>\n",
       "      <td>0.684412</td>\n",
       "    </tr>\n",
       "    <tr>\n",
       "      <th>0</th>\n",
       "      <td>30</td>\n",
       "      <td>144431</td>\n",
       "      <td>92256</td>\n",
       "      <td>235851</td>\n",
       "      <td>52175</td>\n",
       "      <td>33774</td>\n",
       "      <td>0.792422</td>\n",
       "      <td>0.638755</td>\n",
       "      <td>0.732016</td>\n",
       "      <td>0.682213</td>\n",
       "    </tr>\n",
       "    <tr>\n",
       "      <th>0</th>\n",
       "      <td>35</td>\n",
       "      <td>143040</td>\n",
       "      <td>91822</td>\n",
       "      <td>236808</td>\n",
       "      <td>51218</td>\n",
       "      <td>34208</td>\n",
       "      <td>0.793685</td>\n",
       "      <td>0.641932</td>\n",
       "      <td>0.728573</td>\n",
       "      <td>0.682514</td>\n",
       "    </tr>\n",
       "    <tr>\n",
       "      <th>0</th>\n",
       "      <td>40</td>\n",
       "      <td>126721</td>\n",
       "      <td>82770</td>\n",
       "      <td>244075</td>\n",
       "      <td>43951</td>\n",
       "      <td>43260</td>\n",
       "      <td>0.789374</td>\n",
       "      <td>0.653167</td>\n",
       "      <td>0.656748</td>\n",
       "      <td>0.654953</td>\n",
       "    </tr>\n",
       "    <tr>\n",
       "      <th>0</th>\n",
       "      <td>45</td>\n",
       "      <td>117433</td>\n",
       "      <td>77613</td>\n",
       "      <td>248206</td>\n",
       "      <td>39820</td>\n",
       "      <td>48417</td>\n",
       "      <td>0.786896</td>\n",
       "      <td>0.660913</td>\n",
       "      <td>0.615830</td>\n",
       "      <td>0.637575</td>\n",
       "    </tr>\n",
       "    <tr>\n",
       "      <th>0</th>\n",
       "      <td>50</td>\n",
       "      <td>114673</td>\n",
       "      <td>75901</td>\n",
       "      <td>249254</td>\n",
       "      <td>38772</td>\n",
       "      <td>50129</td>\n",
       "      <td>0.785292</td>\n",
       "      <td>0.661891</td>\n",
       "      <td>0.602245</td>\n",
       "      <td>0.630661</td>\n",
       "    </tr>\n",
       "    <tr>\n",
       "      <th>0</th>\n",
       "      <td>55</td>\n",
       "      <td>112583</td>\n",
       "      <td>74788</td>\n",
       "      <td>250231</td>\n",
       "      <td>37795</td>\n",
       "      <td>51242</td>\n",
       "      <td>0.784964</td>\n",
       "      <td>0.664292</td>\n",
       "      <td>0.593414</td>\n",
       "      <td>0.626856</td>\n",
       "    </tr>\n",
       "    <tr>\n",
       "      <th>0</th>\n",
       "      <td>60</td>\n",
       "      <td>110812</td>\n",
       "      <td>74206</td>\n",
       "      <td>251420</td>\n",
       "      <td>36606</td>\n",
       "      <td>51824</td>\n",
       "      <td>0.786430</td>\n",
       "      <td>0.669657</td>\n",
       "      <td>0.588796</td>\n",
       "      <td>0.626629</td>\n",
       "    </tr>\n",
       "    <tr>\n",
       "      <th>0</th>\n",
       "      <td>65</td>\n",
       "      <td>108261</td>\n",
       "      <td>73417</td>\n",
       "      <td>253182</td>\n",
       "      <td>34844</td>\n",
       "      <td>52613</td>\n",
       "      <td>0.788780</td>\n",
       "      <td>0.678148</td>\n",
       "      <td>0.582536</td>\n",
       "      <td>0.626716</td>\n",
       "    </tr>\n",
       "    <tr>\n",
       "      <th>0</th>\n",
       "      <td>70</td>\n",
       "      <td>106279</td>\n",
       "      <td>72987</td>\n",
       "      <td>254734</td>\n",
       "      <td>33292</td>\n",
       "      <td>53043</td>\n",
       "      <td>0.791490</td>\n",
       "      <td>0.686749</td>\n",
       "      <td>0.579124</td>\n",
       "      <td>0.628361</td>\n",
       "    </tr>\n",
       "    <tr>\n",
       "      <th>0</th>\n",
       "      <td>75</td>\n",
       "      <td>88965</td>\n",
       "      <td>66480</td>\n",
       "      <td>265541</td>\n",
       "      <td>22485</td>\n",
       "      <td>59550</td>\n",
       "      <td>0.801875</td>\n",
       "      <td>0.747260</td>\n",
       "      <td>0.527493</td>\n",
       "      <td>0.618433</td>\n",
       "    </tr>\n",
       "    <tr>\n",
       "      <th>0</th>\n",
       "      <td>80</td>\n",
       "      <td>84127</td>\n",
       "      <td>64531</td>\n",
       "      <td>268430</td>\n",
       "      <td>19596</td>\n",
       "      <td>61499</td>\n",
       "      <td>0.804145</td>\n",
       "      <td>0.767066</td>\n",
       "      <td>0.512029</td>\n",
       "      <td>0.614122</td>\n",
       "    </tr>\n",
       "    <tr>\n",
       "      <th>0</th>\n",
       "      <td>85</td>\n",
       "      <td>77536</td>\n",
       "      <td>60594</td>\n",
       "      <td>271084</td>\n",
       "      <td>16942</td>\n",
       "      <td>65436</td>\n",
       "      <td>0.801046</td>\n",
       "      <td>0.781495</td>\n",
       "      <td>0.480790</td>\n",
       "      <td>0.595325</td>\n",
       "    </tr>\n",
       "    <tr>\n",
       "      <th>0</th>\n",
       "      <td>90</td>\n",
       "      <td>24712</td>\n",
       "      <td>19407</td>\n",
       "      <td>282721</td>\n",
       "      <td>5305</td>\n",
       "      <td>106623</td>\n",
       "      <td>0.729679</td>\n",
       "      <td>0.785327</td>\n",
       "      <td>0.153987</td>\n",
       "      <td>0.257486</td>\n",
       "    </tr>\n",
       "    <tr>\n",
       "      <th>0</th>\n",
       "      <td>95</td>\n",
       "      <td>413</td>\n",
       "      <td>322</td>\n",
       "      <td>287935</td>\n",
       "      <td>91</td>\n",
       "      <td>125708</td>\n",
       "      <td>0.696179</td>\n",
       "      <td>0.779661</td>\n",
       "      <td>0.002555</td>\n",
       "      <td>0.005093</td>\n",
       "    </tr>\n",
       "  </tbody>\n",
       "</table>\n",
       "</div>"
      ],
      "text/plain": [
       "   threshold_value  voters_targeted  true_positives  true_negatives  \\\n",
       "0               20           164845           97785          220966   \n",
       "0               25           152048           95160          231138   \n",
       "0               30           144431           92256          235851   \n",
       "0               35           143040           91822          236808   \n",
       "0               40           126721           82770          244075   \n",
       "0               45           117433           77613          248206   \n",
       "0               50           114673           75901          249254   \n",
       "0               55           112583           74788          250231   \n",
       "0               60           110812           74206          251420   \n",
       "0               65           108261           73417          253182   \n",
       "0               70           106279           72987          254734   \n",
       "0               75            88965           66480          265541   \n",
       "0               80            84127           64531          268430   \n",
       "0               85            77536           60594          271084   \n",
       "0               90            24712           19407          282721   \n",
       "0               95              413             322          287935   \n",
       "\n",
       "   false_positives  false_negatives  accuracy  precision    recall  f1_score  \n",
       "0            67060            28245  0.769826   0.593194  0.775887  0.672351  \n",
       "0            56888            30870  0.788053   0.625855  0.755058  0.684412  \n",
       "0            52175            33774  0.792422   0.638755  0.732016  0.682213  \n",
       "0            51218            34208  0.793685   0.641932  0.728573  0.682514  \n",
       "0            43951            43260  0.789374   0.653167  0.656748  0.654953  \n",
       "0            39820            48417  0.786896   0.660913  0.615830  0.637575  \n",
       "0            38772            50129  0.785292   0.661891  0.602245  0.630661  \n",
       "0            37795            51242  0.784964   0.664292  0.593414  0.626856  \n",
       "0            36606            51824  0.786430   0.669657  0.588796  0.626629  \n",
       "0            34844            52613  0.788780   0.678148  0.582536  0.626716  \n",
       "0            33292            53043  0.791490   0.686749  0.579124  0.628361  \n",
       "0            22485            59550  0.801875   0.747260  0.527493  0.618433  \n",
       "0            19596            61499  0.804145   0.767066  0.512029  0.614122  \n",
       "0            16942            65436  0.801046   0.781495  0.480790  0.595325  \n",
       "0             5305           106623  0.729679   0.785327  0.153987  0.257486  \n",
       "0               91           125708  0.696179   0.779661  0.002555  0.005093  "
      ]
     },
     "execution_count": 54,
     "metadata": {},
     "output_type": "execute_result"
    }
   ],
   "source": [
    "loop_results_df.head(20)"
   ]
  }
 ],
 "metadata": {
  "kernelspec": {
   "display_name": "Python 3.10.5 64-bit",
   "language": "python",
   "name": "python3"
  },
  "language_info": {
   "codemirror_mode": {
    "name": "ipython",
    "version": 3
   },
   "file_extension": ".py",
   "mimetype": "text/x-python",
   "name": "python",
   "nbconvert_exporter": "python",
   "pygments_lexer": "ipython3",
   "version": "3.10.5"
  },
  "orig_nbformat": 4,
  "vscode": {
   "interpreter": {
    "hash": "75e4320e024ef7ef2fc01497b2f381c99ba9fe4686f9f952a4ef6b3e74ca2cc2"
   }
  }
 },
 "nbformat": 4,
 "nbformat_minor": 2
}
