{
 "cells": [
  {
   "cell_type": "code",
   "execution_count": 620,
   "metadata": {},
   "outputs": [],
   "source": [
    "import pandas as pd\n",
    "import matplotlib.pyplot as plt\n",
    "import numpy as np\n",
    "import seaborn as sns"
   ]
  },
  {
   "cell_type": "code",
   "execution_count": 621,
   "metadata": {},
   "outputs": [
    {
     "name": "stderr",
     "output_type": "stream",
     "text": [
      "C:\\Users\\Jonbi\\AppData\\Local\\Temp\\ipykernel_5100\\2255065403.py:6: DtypeWarning: Columns (13,14,15,17,28,29,31,32,33,35,36,89,92,94,95,97,98,99,102,103,104,105,107,109,117,119,124) have mixed types. Specify dtype option on import or set low_memory=False.\n",
      "  df = pd.read_csv(file)\n",
      "C:\\Users\\Jonbi\\AppData\\Local\\Temp\\ipykernel_5100\\2255065403.py:6: DtypeWarning: Columns (13,14,15,17,31,35,85,87,89,91,92,94,95,98,99,102,103,105,111,117,119,123,124) have mixed types. Specify dtype option on import or set low_memory=False.\n",
      "  df = pd.read_csv(file)\n",
      "C:\\Users\\Jonbi\\AppData\\Local\\Temp\\ipykernel_5100\\2255065403.py:6: DtypeWarning: Columns (13,14,15,17,28,31,32,35,36,85,89,92,94,95,98,102,103,105,107,111,117,119,124) have mixed types. Specify dtype option on import or set low_memory=False.\n",
      "  df = pd.read_csv(file)\n",
      "C:\\Users\\Jonbi\\AppData\\Local\\Temp\\ipykernel_5100\\2255065403.py:6: DtypeWarning: Columns (13,14,15,17,31,32,35,36,85,87,89,92,94,95,97,98,100,102,103,105,107,117,119,124,126) have mixed types. Specify dtype option on import or set low_memory=False.\n",
      "  df = pd.read_csv(file)\n",
      "C:\\Users\\Jonbi\\AppData\\Local\\Temp\\ipykernel_5100\\2255065403.py:6: DtypeWarning: Columns (13,14,89,92,95,97,98,99,102,105,107,109,115,117,119,124) have mixed types. Specify dtype option on import or set low_memory=False.\n",
      "  df = pd.read_csv(file)\n",
      "C:\\Users\\Jonbi\\AppData\\Local\\Temp\\ipykernel_5100\\2255065403.py:6: DtypeWarning: Columns (13,14,15,17,28,29,30,31,32,33,35,36,51,53,82,85,86,87,88,89,90,92,97,98,99,101,102,103,104,105,107,109,110,111,115,117,119,123,124,126) have mixed types. Specify dtype option on import or set low_memory=False.\n",
      "  df = pd.read_csv(file)\n",
      "C:\\Users\\Jonbi\\AppData\\Local\\Temp\\ipykernel_5100\\2255065403.py:6: DtypeWarning: Columns (13,14,15,17,31,32,87,89,92,94,97,98,99,100,102,103,105,107,117,119,123,124) have mixed types. Specify dtype option on import or set low_memory=False.\n",
      "  df = pd.read_csv(file)\n",
      "C:\\Users\\Jonbi\\AppData\\Local\\Temp\\ipykernel_5100\\2255065403.py:6: DtypeWarning: Columns (13,14,15,17,28,31,32,35,36,87,89,91,92,94,97,98,99,102,103,104,105,107,111,115,117,119,124) have mixed types. Specify dtype option on import or set low_memory=False.\n",
      "  df = pd.read_csv(file)\n"
     ]
    }
   ],
   "source": [
    "#Turning voter data into two dateframes. Each contains all data. One will be used for model training and testing. The other will be used to add model scores back into VAN database.\n",
    "\n",
    "filenames = ['hd1.csv', 'hd2.csv', 'hd4.csv', 'hd5.csv', 'hd6.csv', 'hd7.csv', 'hd8.csv', 'hd9.csv', ]\n",
    "dataframes = []\n",
    "for file in filenames:\n",
    "    df = pd.read_csv(file)\n",
    "    dataframes.append(df)\n",
    "\n",
    "df = pd.concat(dataframes)"
   ]
  },
  {
   "cell_type": "code",
   "execution_count": 622,
   "metadata": {},
   "outputs": [],
   "source": [
    "#Creating a list of columns we don't need for the model.\n",
    "\n",
    "column_list = [\"Self Reported Ethnicity (pipe delimited)\", \"Self Reported Race (pipe delimited)\", \"General02\", \"General01\", \"General00\", \"General99\", \"General98\", \"General97\", \"General96\", \"General95\", \"Primary02\", \"Primary01\",\n",
    "\"Primary00\", \"Primary99\", \"Primary98\", \"Primary97\", \"Primary96\", \"Primary95\", \"Recall13\", \"Runoff11\", \"Special07\", \"Special06\", \"Special04\", \"Special02\", \"Special01\", \"Special00\", \"Special99\", \"Special98\", \"Special97\", \"Special96\",\n",
    "\"Special95\", 'DemPartyCaucus04', 'DemPartyCaucus06', 'Special21',  'Special20', 'Special19', 'Special18', 'Special14', 'Special10', 'Special09', 'Voter File VANID', 'LastName', 'FirstName', 'MiddleName', 'Suffix', 'EthnicName', 'CD', \n",
    "'SD', 'PollingZip', 'VotedStatus', 'PrecinctName', 'EarlyVoted', 'YEARXXScoreSName', 'OffGen', 'CollegeGraduate', 'SpanishLanguagePrefe', 'ChoiceSupport', 'DNCDemPartySupportV1', 'DNCDemPartySupportV2', 'DNCMalaise', 'TO2022', \n",
    "'DNCNationalTurnoutV2']"
   ]
  },
  {
   "cell_type": "code",
   "execution_count": 623,
   "metadata": {},
   "outputs": [],
   "source": [
    "#Dropping columns that are not needed.\n",
    "for column in column_list:\n",
    "    df.drop(column, axis=1, inplace=True)"
   ]
  },
  {
   "cell_type": "code",
   "execution_count": 624,
   "metadata": {},
   "outputs": [],
   "source": [
    "#Creating lists for each group of columns. Some require different data cleaning.\n",
    "DemPartyCaucus_list = ['DemPartyCaucus20', 'DemPartyCaucus18', 'DemPartyCaucus16', 'DemPartyCaucus14', 'DemPartyCaucus12', 'DemPartyCaucus10', 'DemPartyCaucus08']"
   ]
  },
  {
   "cell_type": "code",
   "execution_count": 625,
   "metadata": {},
   "outputs": [],
   "source": [
    "columns_to_clean = ['General20', 'General18', 'General16', 'General14', 'General12', 'General10', 'General08', 'General06', 'General04', 'NovemberMunicipal21', 'NovemberMunicipal19', 'NovemberMunicipal17', \n",
    "'NovemberMunicipal15', 'NovemberMunicipal13', 'NovemberMunicipal11', 'NovemberMunicipal09', 'NovemberMunicipal07', 'NovemberMunicipal05', 'NovemberMunicipal03', 'PresidentialPrimary20', 'Primary22', 'Primary20', \n",
    "'Primary18', 'Primary16', 'Primary14', 'Primary12', 'Primary10', 'Primary08', 'Primary06', 'Primary04', 'SpringMuniRunoff19', 'SpringMuniRunoff15', 'SpringMuniRunoff11', 'SpringMuniRunoff07', 'SpringMuniRunoff03', \n",
    "'SpringMunicipal21', 'SpringMunicipal19', 'SpringMunicipal17', 'SpringMunicipal15', 'SpringMunicipal13', 'SpringMunicipal11', 'SpringMunicipal10', 'SpringMunicipal09', 'SpringMunicipal07', 'SpringMunicipal05', \n",
    "'SpringMunicipal03']"
   ]
  },
  {
   "cell_type": "code",
   "execution_count": 626,
   "metadata": {},
   "outputs": [],
   "source": [
    "#Changing Y values in columns to 1s and changing nulls to 0s.\n",
    "for column in DemPartyCaucus_list:\n",
    "    df[column] = df[column].replace('Y', 1)\n",
    "    df[column].fillna(0, inplace=True)"
   ]
  },
  {
   "cell_type": "code",
   "execution_count": 627,
   "metadata": {},
   "outputs": [],
   "source": [
    "#changing column data types\n",
    "for column in DemPartyCaucus_list:\n",
    "    df[column] = df[column].astype(int)"
   ]
  },
  {
   "cell_type": "code",
   "execution_count": 628,
   "metadata": {},
   "outputs": [],
   "source": [
    "#Changing all values, except null, to 1. Changing nulls to 0\n",
    "for column in columns_to_clean:\n",
    "    df[column] = df[column].replace('A', 1)\n",
    "    df[column] = df[column].replace('P', 1)\n",
    "    df[column] = df[column].replace('E', 1)\n",
    "    df[column] = df[column].replace('Y', 1)\n",
    "    df[column] = df[column].replace('M', 1)\n",
    "    df[column] = df[column].replace('Q', 1)\n",
    "    df[column] = df[column].replace('V', 1)\n",
    "    df[column] = df[column].replace('Y', 1)\n",
    "    df[column].fillna(0, inplace=True)"
   ]
  },
  {
   "cell_type": "code",
   "execution_count": 629,
   "metadata": {},
   "outputs": [],
   "source": [
    "#changing column data types\n",
    "for column in columns_to_clean:\n",
    "    df[column] = df[column].astype(int)"
   ]
  },
  {
   "cell_type": "code",
   "execution_count": 630,
   "metadata": {},
   "outputs": [],
   "source": [
    "#one-hot encoding categorical columns\n",
    "df = pd.get_dummies(df)"
   ]
  },
  {
   "cell_type": "code",
   "execution_count": 631,
   "metadata": {},
   "outputs": [
    {
     "name": "stdout",
     "output_type": "stream",
     "text": [
      "32     14061\n",
      "30     13832\n",
      "31     13771\n",
      "33     13326\n",
      "29     13191\n",
      "       ...  \n",
      "106        4\n",
      "109        3\n",
      "105        2\n",
      "110        1\n",
      "111        1\n",
      "Name: Age, Length: 93, dtype: int64\n",
      "2    94108\n",
      "8    91577\n",
      "1    61008\n",
      "9    57241\n",
      "4    50517\n",
      "5    45484\n",
      "7    43704\n",
      "6    25633\n",
      "Name: HD, dtype: int64\n",
      "0    466572\n",
      "1      2700\n",
      "Name: DemPartyCaucus20, dtype: int64\n",
      "0    465310\n",
      "1      3962\n",
      "Name: DemPartyCaucus18, dtype: int64\n",
      "0    449616\n",
      "1     19656\n",
      "Name: DemPartyCaucus16, dtype: int64\n",
      "0    468311\n",
      "1       961\n",
      "Name: DemPartyCaucus14, dtype: int64\n",
      "0    467593\n",
      "1      1679\n",
      "Name: DemPartyCaucus12, dtype: int64\n",
      "0    465103\n",
      "1      4169\n",
      "Name: DemPartyCaucus10, dtype: int64\n",
      "0    454283\n",
      "1     14989\n",
      "Name: DemPartyCaucus08, dtype: int64\n",
      "1    345238\n",
      "0    124034\n",
      "Name: General20, dtype: int64\n",
      "1    260189\n",
      "0    209083\n",
      "Name: General18, dtype: int64\n",
      "1    261815\n",
      "0    207457\n",
      "Name: General16, dtype: int64\n",
      "0    297336\n",
      "1    171936\n",
      "Name: General14, dtype: int64\n",
      "0    265348\n",
      "1    203924\n",
      "Name: General12, dtype: int64\n",
      "0    339479\n",
      "1    129793\n",
      "Name: General10, dtype: int64\n",
      "0    302360\n",
      "1    166912\n",
      "Name: General08, dtype: int64\n",
      "0    372567\n",
      "1     96705\n",
      "Name: General06, dtype: int64\n",
      "0    346145\n",
      "1    123127\n",
      "Name: General04, dtype: int64\n",
      "0    311630\n",
      "1    157642\n",
      "Name: NovemberMunicipal21, dtype: int64\n",
      "0    324451\n",
      "1    144821\n",
      "Name: NovemberMunicipal19, dtype: int64\n",
      "0    351477\n",
      "1    117795\n",
      "Name: NovemberMunicipal17, dtype: int64\n",
      "0    371472\n",
      "1     97800\n",
      "Name: NovemberMunicipal15, dtype: int64\n",
      "0    364992\n",
      "1    104280\n",
      "Name: NovemberMunicipal13, dtype: int64\n",
      "0    375501\n",
      "1     93771\n",
      "Name: NovemberMunicipal11, dtype: int64\n",
      "0    416524\n",
      "1     52748\n",
      "Name: NovemberMunicipal09, dtype: int64\n",
      "0    413304\n",
      "1     55968\n",
      "Name: NovemberMunicipal07, dtype: int64\n",
      "0    401027\n",
      "1     68245\n",
      "Name: NovemberMunicipal05, dtype: int64\n",
      "0    418578\n",
      "1     50694\n",
      "Name: NovemberMunicipal03, dtype: int64\n",
      "0    269009\n",
      "1    200263\n",
      "Name: PresidentialPrimary20, dtype: int64\n",
      "0    350450\n",
      "1    118822\n",
      "Name: Primary22, dtype: int64\n",
      "0    282554\n",
      "1    186718\n",
      "Name: Primary20, dtype: int64\n",
      "0    345998\n",
      "1    123274\n",
      "Name: Primary18, dtype: int64\n",
      "0    409833\n",
      "1     59439\n",
      "Name: Primary16, dtype: int64\n",
      "0    425106\n",
      "1     44166\n",
      "Name: Primary14, dtype: int64\n",
      "0    437776\n",
      "1     31496\n",
      "Name: Primary12, dtype: int64\n",
      "0    412162\n",
      "1     57110\n",
      "Name: Primary10, dtype: int64\n",
      "0    434065\n",
      "1     35207\n",
      "Name: Primary08, dtype: int64\n",
      "0    446382\n",
      "1     22890\n",
      "Name: Primary06, dtype: int64\n",
      "0    429833\n",
      "1     39439\n",
      "Name: Primary04, dtype: int64\n",
      "0    331622\n",
      "1    137650\n",
      "Name: SpringMuniRunoff19, dtype: int64\n",
      "0    449675\n",
      "1     19597\n",
      "Name: SpringMuniRunoff15, dtype: int64\n",
      "0    394886\n",
      "1     74386\n",
      "Name: SpringMuniRunoff11, dtype: int64\n",
      "0    461739\n",
      "1      7533\n",
      "Name: SpringMuniRunoff07, dtype: int64\n",
      "0    424092\n",
      "1     45180\n",
      "Name: SpringMuniRunoff03, dtype: int64\n",
      "0    469103\n",
      "1       169\n",
      "Name: SpringMunicipal21, dtype: int64\n",
      "0    317891\n",
      "1    151381\n",
      "Name: SpringMunicipal19, dtype: int64\n",
      "0    468887\n",
      "1       385\n",
      "Name: SpringMunicipal17, dtype: int64\n",
      "0    357983\n",
      "1    111289\n",
      "Name: SpringMunicipal15, dtype: int64\n",
      "0    364815\n",
      "1    104457\n",
      "Name: SpringMunicipal13, dtype: int64\n",
      "0    399553\n",
      "1     69719\n",
      "Name: SpringMunicipal11, dtype: int64\n",
      "0    469266\n",
      "1         6\n",
      "Name: SpringMunicipal10, dtype: int64\n",
      "0    468960\n",
      "1       312\n",
      "Name: SpringMunicipal09, dtype: int64\n",
      "0    429368\n",
      "1     39904\n",
      "Name: SpringMunicipal07, dtype: int64\n",
      "0    441266\n",
      "1     28006\n",
      "Name: SpringMunicipal05, dtype: int64\n",
      "0    421188\n",
      "1     48084\n",
      "Name: SpringMunicipal03, dtype: int64\n",
      "1    236555\n",
      "0    232717\n",
      "Name: Sex_F, dtype: int64\n",
      "0    238644\n",
      "1    230628\n",
      "Name: Sex_M, dtype: int64\n",
      "0    467183\n",
      "1      2089\n",
      "Name: Sex_U, dtype: int64\n",
      "0    263693\n",
      "1    205579\n",
      "Name: Party_D, dtype: int64\n",
      "0    467941\n",
      "1      1331\n",
      "Name: Party_G, dtype: int64\n",
      "0    464795\n",
      "1      4477\n",
      "Name: Party_L, dtype: int64\n",
      "0    418798\n",
      "1     50474\n",
      "Name: Party_R, dtype: int64\n",
      "0    261861\n",
      "1    207411\n",
      "Name: Party_U, dtype: int64\n",
      "0    354005\n",
      "1    115267\n",
      "Name: PresidentialPrimary20Party_D, dtype: int64\n",
      "0    449787\n",
      "1     19485\n",
      "Name: PresidentialPrimary20Party_R, dtype: int64\n",
      "0    403761\n",
      "1     65511\n",
      "Name: PresidentialPrimary20Party_U, dtype: int64\n",
      "0    379850\n",
      "1     89422\n",
      "Name: Primary22Party_D, dtype: int64\n",
      "0    469271\n",
      "1         1\n",
      "Name: Primary22Party_L, dtype: int64\n",
      "0    466983\n",
      "1      2289\n",
      "Name: Primary22Party_N, dtype: int64\n",
      "0    442162\n",
      "1     27110\n",
      "Name: Primary22Party_R, dtype: int64\n",
      "0    306539\n",
      "1    162733\n",
      "Name: Primary20Party_D, dtype: int64\n",
      "0    469271\n",
      "1         1\n",
      "Name: Primary20Party_G, dtype: int64\n",
      "0    468642\n",
      "1       630\n",
      "Name: Primary20Party_L, dtype: int64\n",
      "0    469269\n",
      "1         3\n",
      "Name: Primary20Party_O, dtype: int64\n",
      "0    447292\n",
      "1     21980\n",
      "Name: Primary20Party_R, dtype: int64\n",
      "0    467901\n",
      "1      1371\n",
      "Name: Primary20Party_U, dtype: int64\n",
      "0    374581\n",
      "1     94691\n",
      "Name: Primary18Party_D, dtype: int64\n",
      "0    469271\n",
      "1         1\n",
      "Name: Primary18Party_L, dtype: int64\n",
      "0    449571\n",
      "1     19701\n",
      "Name: Primary18Party_R, dtype: int64\n",
      "0    460391\n",
      "1      8881\n",
      "Name: Primary18Party_U, dtype: int64\n",
      "0    422184\n",
      "1     47088\n",
      "Name: Primary16Party_D, dtype: int64\n",
      "0    456928\n",
      "1     12344\n",
      "Name: Primary16Party_R, dtype: int64\n",
      "0    469265\n",
      "1         7\n",
      "Name: Primary16Party_U, dtype: int64\n",
      "0    438169\n",
      "1     31103\n",
      "Name: Primary14Party_D, dtype: int64\n",
      "0    469198\n",
      "1        74\n",
      "Name: Primary14Party_O, dtype: int64\n",
      "0    456307\n",
      "1     12965\n",
      "Name: Primary14Party_R, dtype: int64\n",
      "0    469248\n",
      "1        24\n",
      "Name: Primary14Party_U, dtype: int64\n",
      "0    445846\n",
      "1     23426\n",
      "Name: Primary12Party_D, dtype: int64\n",
      "0    469204\n",
      "1        68\n",
      "Name: Primary12Party_O, dtype: int64\n",
      "0    461283\n",
      "1      7989\n",
      "Name: Primary12Party_R, dtype: int64\n",
      "0    469259\n",
      "1        13\n",
      "Name: Primary12Party_U, dtype: int64\n",
      "0    425320\n",
      "1     43952\n",
      "Name: Primary10Party_D, dtype: int64\n",
      "0    469052\n",
      "1       220\n",
      "Name: Primary10Party_I, dtype: int64\n",
      "0    456335\n",
      "1     12937\n",
      "Name: Primary10Party_R, dtype: int64\n",
      "0    469271\n",
      "1         1\n",
      "Name: Primary10Party_U, dtype: int64\n",
      "0    447035\n",
      "1     22237\n",
      "Name: Primary08Party_D, dtype: int64\n",
      "0    462160\n",
      "1      7112\n",
      "Name: Primary08Party_R, dtype: int64\n"
     ]
    }
   ],
   "source": [
    "#checking column data to ensure changes\n",
    "for column in df:\n",
    "    print(df[column].value_counts())"
   ]
  },
  {
   "cell_type": "code",
   "execution_count": 632,
   "metadata": {},
   "outputs": [],
   "source": [
    "#removing reduant columns after one-hot encoding\n",
    "redundant_columns = ['Sex_U', 'Party_G', 'PresidentialPrimary20Party_R', 'Primary22Party_N', 'Primary20Party_L', 'Primary18Party_L', 'Primary16Party_R', 'Primary14Party_O', 'Primary12Party_O', 'Primary10Party_U', \n",
    "'Primary08Party_R']\n",
    "\n",
    "for column in redundant_columns:\n",
    "    df.drop(column, axis=1, inplace=True)"
   ]
  },
  {
   "cell_type": "code",
   "execution_count": 633,
   "metadata": {},
   "outputs": [],
   "source": [
    "#since our model will be predicting turnout for the 2019 Spring Municipal Election, we need to remove all columns that contain data from after that election.\n",
    "post_2019_columns = ['DemPartyCaucus20', 'General20', 'NovemberMunicipal21', 'PresidentialPrimary20', 'Primary22', 'Primary20', 'SpringMunicipal21', 'PresidentialPrimary20Party_D', 'PresidentialPrimary20Party_U', \n",
    "'Primary22Party_D', 'Primary22Party_L', 'Primary22Party_R', 'Primary20Party_D', 'Primary20Party_G', 'Primary20Party_O', 'Primary20Party_R', 'Primary20Party_U']\n",
    "\n",
    "for column in post_2019_columns:\n",
    "    df.drop(column, axis=1, inplace=True)"
   ]
  },
  {
   "cell_type": "code",
   "execution_count": 634,
   "metadata": {},
   "outputs": [
    {
     "name": "stdout",
     "output_type": "stream",
     "text": [
      "32     14061\n",
      "30     13832\n",
      "31     13771\n",
      "33     13326\n",
      "29     13191\n",
      "       ...  \n",
      "106        4\n",
      "109        3\n",
      "105        2\n",
      "110        1\n",
      "111        1\n",
      "Name: Age, Length: 93, dtype: int64\n",
      "2    94108\n",
      "8    91577\n",
      "1    61008\n",
      "9    57241\n",
      "4    50517\n",
      "5    45484\n",
      "7    43704\n",
      "6    25633\n",
      "Name: HD, dtype: int64\n",
      "0    465310\n",
      "1      3962\n",
      "Name: DemPartyCaucus18, dtype: int64\n",
      "0    449616\n",
      "1     19656\n",
      "Name: DemPartyCaucus16, dtype: int64\n",
      "0    468311\n",
      "1       961\n",
      "Name: DemPartyCaucus14, dtype: int64\n",
      "0    467593\n",
      "1      1679\n",
      "Name: DemPartyCaucus12, dtype: int64\n",
      "0    465103\n",
      "1      4169\n",
      "Name: DemPartyCaucus10, dtype: int64\n",
      "0    454283\n",
      "1     14989\n",
      "Name: DemPartyCaucus08, dtype: int64\n",
      "1    260189\n",
      "0    209083\n",
      "Name: General18, dtype: int64\n",
      "1    261815\n",
      "0    207457\n",
      "Name: General16, dtype: int64\n",
      "0    297336\n",
      "1    171936\n",
      "Name: General14, dtype: int64\n",
      "0    265348\n",
      "1    203924\n",
      "Name: General12, dtype: int64\n",
      "0    339479\n",
      "1    129793\n",
      "Name: General10, dtype: int64\n",
      "0    302360\n",
      "1    166912\n",
      "Name: General08, dtype: int64\n",
      "0    372567\n",
      "1     96705\n",
      "Name: General06, dtype: int64\n",
      "0    346145\n",
      "1    123127\n",
      "Name: General04, dtype: int64\n",
      "0    324451\n",
      "1    144821\n",
      "Name: NovemberMunicipal19, dtype: int64\n",
      "0    351477\n",
      "1    117795\n",
      "Name: NovemberMunicipal17, dtype: int64\n",
      "0    371472\n",
      "1     97800\n",
      "Name: NovemberMunicipal15, dtype: int64\n",
      "0    364992\n",
      "1    104280\n",
      "Name: NovemberMunicipal13, dtype: int64\n",
      "0    375501\n",
      "1     93771\n",
      "Name: NovemberMunicipal11, dtype: int64\n",
      "0    416524\n",
      "1     52748\n",
      "Name: NovemberMunicipal09, dtype: int64\n",
      "0    413304\n",
      "1     55968\n",
      "Name: NovemberMunicipal07, dtype: int64\n",
      "0    401027\n",
      "1     68245\n",
      "Name: NovemberMunicipal05, dtype: int64\n",
      "0    418578\n",
      "1     50694\n",
      "Name: NovemberMunicipal03, dtype: int64\n",
      "0    345998\n",
      "1    123274\n",
      "Name: Primary18, dtype: int64\n",
      "0    409833\n",
      "1     59439\n",
      "Name: Primary16, dtype: int64\n",
      "0    425106\n",
      "1     44166\n",
      "Name: Primary14, dtype: int64\n",
      "0    437776\n",
      "1     31496\n",
      "Name: Primary12, dtype: int64\n",
      "0    412162\n",
      "1     57110\n",
      "Name: Primary10, dtype: int64\n",
      "0    434065\n",
      "1     35207\n",
      "Name: Primary08, dtype: int64\n",
      "0    446382\n",
      "1     22890\n",
      "Name: Primary06, dtype: int64\n",
      "0    429833\n",
      "1     39439\n",
      "Name: Primary04, dtype: int64\n",
      "0    331622\n",
      "1    137650\n",
      "Name: SpringMuniRunoff19, dtype: int64\n",
      "0    449675\n",
      "1     19597\n",
      "Name: SpringMuniRunoff15, dtype: int64\n",
      "0    394886\n",
      "1     74386\n",
      "Name: SpringMuniRunoff11, dtype: int64\n",
      "0    461739\n",
      "1      7533\n",
      "Name: SpringMuniRunoff07, dtype: int64\n",
      "0    424092\n",
      "1     45180\n",
      "Name: SpringMuniRunoff03, dtype: int64\n",
      "0    317891\n",
      "1    151381\n",
      "Name: SpringMunicipal19, dtype: int64\n",
      "0    468887\n",
      "1       385\n",
      "Name: SpringMunicipal17, dtype: int64\n",
      "0    357983\n",
      "1    111289\n",
      "Name: SpringMunicipal15, dtype: int64\n",
      "0    364815\n",
      "1    104457\n",
      "Name: SpringMunicipal13, dtype: int64\n",
      "0    399553\n",
      "1     69719\n",
      "Name: SpringMunicipal11, dtype: int64\n",
      "0    469266\n",
      "1         6\n",
      "Name: SpringMunicipal10, dtype: int64\n",
      "0    468960\n",
      "1       312\n",
      "Name: SpringMunicipal09, dtype: int64\n",
      "0    429368\n",
      "1     39904\n",
      "Name: SpringMunicipal07, dtype: int64\n",
      "0    441266\n",
      "1     28006\n",
      "Name: SpringMunicipal05, dtype: int64\n",
      "0    421188\n",
      "1     48084\n",
      "Name: SpringMunicipal03, dtype: int64\n",
      "1    236555\n",
      "0    232717\n",
      "Name: Sex_F, dtype: int64\n",
      "0    238644\n",
      "1    230628\n",
      "Name: Sex_M, dtype: int64\n",
      "0    263693\n",
      "1    205579\n",
      "Name: Party_D, dtype: int64\n",
      "0    464795\n",
      "1      4477\n",
      "Name: Party_L, dtype: int64\n",
      "0    418798\n",
      "1     50474\n",
      "Name: Party_R, dtype: int64\n",
      "0    261861\n",
      "1    207411\n",
      "Name: Party_U, dtype: int64\n",
      "0    374581\n",
      "1     94691\n",
      "Name: Primary18Party_D, dtype: int64\n",
      "0    449571\n",
      "1     19701\n",
      "Name: Primary18Party_R, dtype: int64\n",
      "0    460391\n",
      "1      8881\n",
      "Name: Primary18Party_U, dtype: int64\n",
      "0    422184\n",
      "1     47088\n",
      "Name: Primary16Party_D, dtype: int64\n",
      "0    469265\n",
      "1         7\n",
      "Name: Primary16Party_U, dtype: int64\n",
      "0    438169\n",
      "1     31103\n",
      "Name: Primary14Party_D, dtype: int64\n",
      "0    456307\n",
      "1     12965\n",
      "Name: Primary14Party_R, dtype: int64\n",
      "0    469248\n",
      "1        24\n",
      "Name: Primary14Party_U, dtype: int64\n",
      "0    445846\n",
      "1     23426\n",
      "Name: Primary12Party_D, dtype: int64\n",
      "0    461283\n",
      "1      7989\n",
      "Name: Primary12Party_R, dtype: int64\n",
      "0    469259\n",
      "1        13\n",
      "Name: Primary12Party_U, dtype: int64\n",
      "0    425320\n",
      "1     43952\n",
      "Name: Primary10Party_D, dtype: int64\n",
      "0    469052\n",
      "1       220\n",
      "Name: Primary10Party_I, dtype: int64\n",
      "0    456335\n",
      "1     12937\n",
      "Name: Primary10Party_R, dtype: int64\n",
      "0    447035\n",
      "1     22237\n",
      "Name: Primary08Party_D, dtype: int64\n"
     ]
    }
   ],
   "source": [
    "#checking column data to ensure changes\n",
    "for column in df:\n",
    "    print(df[column].value_counts())"
   ]
  },
  {
   "cell_type": "code",
   "execution_count": 635,
   "metadata": {},
   "outputs": [],
   "source": [
    "#Required imports\n",
    "from sklearn.model_selection import train_test_split\n",
    "from sklearn.metrics import confusion_matrix\n",
    "from sklearn.linear_model import LogisticRegression"
   ]
  },
  {
   "cell_type": "code",
   "execution_count": 636,
   "metadata": {},
   "outputs": [],
   "source": [
    "#Removing the target feature and setting the dependent variable\n",
    "X = df.drop(['SpringMunicipal19'], axis = 1)\n",
    "y = df['SpringMunicipal19']"
   ]
  },
  {
   "cell_type": "code",
   "execution_count": 637,
   "metadata": {},
   "outputs": [],
   "source": [
    "#Splitting data into training and testing portions\n",
    "X_train, X_test, y_train, y_test = train_test_split(X, y, train_size = 0.8, random_state = 42)"
   ]
  },
  {
   "cell_type": "code",
   "execution_count": 638,
   "metadata": {},
   "outputs": [],
   "source": [
    "#setting up logistic regression model with L1 (lasso) regulatization \n",
    "logReg = LogisticRegression(penalty='l1', solver='liblinear', C=100)"
   ]
  },
  {
   "cell_type": "code",
   "execution_count": 639,
   "metadata": {},
   "outputs": [
    {
     "data": {
      "text/html": [
       "<style>#sk-container-id-13 {color: black;background-color: white;}#sk-container-id-13 pre{padding: 0;}#sk-container-id-13 div.sk-toggleable {background-color: white;}#sk-container-id-13 label.sk-toggleable__label {cursor: pointer;display: block;width: 100%;margin-bottom: 0;padding: 0.3em;box-sizing: border-box;text-align: center;}#sk-container-id-13 label.sk-toggleable__label-arrow:before {content: \"▸\";float: left;margin-right: 0.25em;color: #696969;}#sk-container-id-13 label.sk-toggleable__label-arrow:hover:before {color: black;}#sk-container-id-13 div.sk-estimator:hover label.sk-toggleable__label-arrow:before {color: black;}#sk-container-id-13 div.sk-toggleable__content {max-height: 0;max-width: 0;overflow: hidden;text-align: left;background-color: #f0f8ff;}#sk-container-id-13 div.sk-toggleable__content pre {margin: 0.2em;color: black;border-radius: 0.25em;background-color: #f0f8ff;}#sk-container-id-13 input.sk-toggleable__control:checked~div.sk-toggleable__content {max-height: 200px;max-width: 100%;overflow: auto;}#sk-container-id-13 input.sk-toggleable__control:checked~label.sk-toggleable__label-arrow:before {content: \"▾\";}#sk-container-id-13 div.sk-estimator input.sk-toggleable__control:checked~label.sk-toggleable__label {background-color: #d4ebff;}#sk-container-id-13 div.sk-label input.sk-toggleable__control:checked~label.sk-toggleable__label {background-color: #d4ebff;}#sk-container-id-13 input.sk-hidden--visually {border: 0;clip: rect(1px 1px 1px 1px);clip: rect(1px, 1px, 1px, 1px);height: 1px;margin: -1px;overflow: hidden;padding: 0;position: absolute;width: 1px;}#sk-container-id-13 div.sk-estimator {font-family: monospace;background-color: #f0f8ff;border: 1px dotted black;border-radius: 0.25em;box-sizing: border-box;margin-bottom: 0.5em;}#sk-container-id-13 div.sk-estimator:hover {background-color: #d4ebff;}#sk-container-id-13 div.sk-parallel-item::after {content: \"\";width: 100%;border-bottom: 1px solid gray;flex-grow: 1;}#sk-container-id-13 div.sk-label:hover label.sk-toggleable__label {background-color: #d4ebff;}#sk-container-id-13 div.sk-serial::before {content: \"\";position: absolute;border-left: 1px solid gray;box-sizing: border-box;top: 0;bottom: 0;left: 50%;z-index: 0;}#sk-container-id-13 div.sk-serial {display: flex;flex-direction: column;align-items: center;background-color: white;padding-right: 0.2em;padding-left: 0.2em;position: relative;}#sk-container-id-13 div.sk-item {position: relative;z-index: 1;}#sk-container-id-13 div.sk-parallel {display: flex;align-items: stretch;justify-content: center;background-color: white;position: relative;}#sk-container-id-13 div.sk-item::before, #sk-container-id-13 div.sk-parallel-item::before {content: \"\";position: absolute;border-left: 1px solid gray;box-sizing: border-box;top: 0;bottom: 0;left: 50%;z-index: -1;}#sk-container-id-13 div.sk-parallel-item {display: flex;flex-direction: column;z-index: 1;position: relative;background-color: white;}#sk-container-id-13 div.sk-parallel-item:first-child::after {align-self: flex-end;width: 50%;}#sk-container-id-13 div.sk-parallel-item:last-child::after {align-self: flex-start;width: 50%;}#sk-container-id-13 div.sk-parallel-item:only-child::after {width: 0;}#sk-container-id-13 div.sk-dashed-wrapped {border: 1px dashed gray;margin: 0 0.4em 0.5em 0.4em;box-sizing: border-box;padding-bottom: 0.4em;background-color: white;}#sk-container-id-13 div.sk-label label {font-family: monospace;font-weight: bold;display: inline-block;line-height: 1.2em;}#sk-container-id-13 div.sk-label-container {text-align: center;}#sk-container-id-13 div.sk-container {/* jupyter's `normalize.less` sets `[hidden] { display: none; }` but bootstrap.min.css set `[hidden] { display: none !important; }` so we also need the `!important` here to be able to override the default hidden behavior on the sphinx rendered scikit-learn.org. See: https://github.com/scikit-learn/scikit-learn/issues/21755 */display: inline-block !important;position: relative;}#sk-container-id-13 div.sk-text-repr-fallback {display: none;}</style><div id=\"sk-container-id-13\" class=\"sk-top-container\"><div class=\"sk-text-repr-fallback\"><pre>LogisticRegression(C=100, penalty=&#x27;l1&#x27;, solver=&#x27;liblinear&#x27;)</pre><b>In a Jupyter environment, please rerun this cell to show the HTML representation or trust the notebook. <br />On GitHub, the HTML representation is unable to render, please try loading this page with nbviewer.org.</b></div><div class=\"sk-container\" hidden><div class=\"sk-item\"><div class=\"sk-estimator sk-toggleable\"><input class=\"sk-toggleable__control sk-hidden--visually\" id=\"sk-estimator-id-13\" type=\"checkbox\" checked><label for=\"sk-estimator-id-13\" class=\"sk-toggleable__label sk-toggleable__label-arrow\">LogisticRegression</label><div class=\"sk-toggleable__content\"><pre>LogisticRegression(C=100, penalty=&#x27;l1&#x27;, solver=&#x27;liblinear&#x27;)</pre></div></div></div></div></div>"
      ],
      "text/plain": [
       "LogisticRegression(C=100, penalty='l1', solver='liblinear')"
      ]
     },
     "execution_count": 639,
     "metadata": {},
     "output_type": "execute_result"
    }
   ],
   "source": [
    "#training the model\n",
    "logReg.fit(X_train, y_train)"
   ]
  },
  {
   "cell_type": "code",
   "execution_count": 640,
   "metadata": {},
   "outputs": [
    {
     "data": {
      "text/plain": [
       "0.8903734484044536"
      ]
     },
     "execution_count": 640,
     "metadata": {},
     "output_type": "execute_result"
    }
   ],
   "source": [
    "#Scoring accuracy\n",
    "logReg.score(X_test, y_test)"
   ]
  },
  {
   "cell_type": "code",
   "execution_count": 641,
   "metadata": {},
   "outputs": [],
   "source": [
    "#Making predictions on test data\n",
    "predictions = logReg.predict(X_test)"
   ]
  },
  {
   "cell_type": "code",
   "execution_count": 647,
   "metadata": {},
   "outputs": [
    {
     "data": {
      "text/plain": [
       "<sklearn.metrics._plot.roc_curve.RocCurveDisplay at 0x25595a2b280>"
      ]
     },
     "execution_count": 647,
     "metadata": {},
     "output_type": "execute_result"
    },
    {
     "data": {
      "image/png": "[encoded data removed]",
      "text/plain": [
       "<Figure size 720x720 with 1 Axes>"
      ]
     },
     "metadata": {
      "needs_background": "light"
     },
     "output_type": "display_data"
    }
   ],
   "source": [
    "#ROC curve\n",
    "from sklearn.metrics import RocCurveDisplay, auc, roc_auc_score\n",
    "fig, ax = plt.subplots(figsize=(10, 10))\n",
    "RocCurveDisplay.from_estimator(logReg, X_test, y_test, ax=ax)"
   ]
  },
  {
   "cell_type": "code",
   "execution_count": 649,
   "metadata": {},
   "outputs": [
    {
     "name": "stdout",
     "output_type": "stream",
     "text": [
      "Cross-Validation Accuracy Scores [0.88867135 0.8896436  0.88984191 0.89106722 0.88906943]\n"
     ]
    }
   ],
   "source": [
    "#K folds cross validation\n",
    "from sklearn.model_selection import cross_val_score\n",
    "score = cross_val_score(logReg, X_train, y_train, cv=5)\n",
    "print('Cross-Validation Accuracy Scores', score)"
   ]
  },
  {
   "cell_type": "code",
   "execution_count": 662,
   "metadata": {},
   "outputs": [
    {
     "name": "stdout",
     "output_type": "stream",
     "text": [
      "              precision    recall  f1-score   support\n",
      "\n",
      "           0       0.91      0.93      0.92     63594\n",
      "           1       0.85      0.80      0.82     30261\n",
      "\n",
      "    accuracy                           0.89     93855\n",
      "   macro avg       0.88      0.87      0.87     93855\n",
      "weighted avg       0.89      0.89      0.89     93855\n",
      "\n"
     ]
    }
   ],
   "source": [
    "#Classification Report\n",
    "from sklearn.metrics import classification_report\n",
    "print(classification_report(y_test, predictions))"
   ]
  },
  {
   "cell_type": "code",
   "execution_count": 650,
   "metadata": {},
   "outputs": [],
   "source": [
    "#import pickle"
   ]
  },
  {
   "cell_type": "code",
   "execution_count": 651,
   "metadata": {},
   "outputs": [],
   "source": [
    "#saving model\n",
    "#with open('logreg_17_model', 'wb') as f:\n",
    "    #pickle.dump(logReg, f)"
   ]
  },
  {
   "cell_type": "code",
   "execution_count": 652,
   "metadata": {},
   "outputs": [],
   "source": [
    "preds = logReg.predict_proba(X)"
   ]
  },
  {
   "cell_type": "code",
   "execution_count": 653,
   "metadata": {},
   "outputs": [
    {
     "data": {
      "text/plain": [
       "array([[0.97834805, 0.02165195],\n",
       "       [0.9816011 , 0.0183989 ],\n",
       "       [0.98197284, 0.01802716],\n",
       "       ...,\n",
       "       [0.98176966, 0.01823034],\n",
       "       [0.88749605, 0.11250395],\n",
       "       [0.97857351, 0.02142649]])"
      ]
     },
     "execution_count": 653,
     "metadata": {},
     "output_type": "execute_result"
    }
   ],
   "source": [
    "preds"
   ]
  }
 ],
 "metadata": {
  "kernelspec": {
   "display_name": "Python 3.10.5 64-bit",
   "language": "python",
   "name": "python3"
  },
  "language_info": {
   "codemirror_mode": {
    "name": "ipython",
    "version": 3
   },
   "file_extension": ".py",
   "mimetype": "text/x-python",
   "name": "python",
   "nbconvert_exporter": "python",
   "pygments_lexer": "ipython3",
   "version": "3.10.5"
  },
  "orig_nbformat": 4,
  "vscode": {
   "interpreter": {
    "hash": "75e4320e024ef7ef2fc01497b2f381c99ba9fe4686f9f952a4ef6b3e74ca2cc2"
   }
  }
 },
 "nbformat": 4,
 "nbformat_minor": 2
}
